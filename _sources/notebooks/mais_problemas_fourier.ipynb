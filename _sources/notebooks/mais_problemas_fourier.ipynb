{
 "cells": [
  {
   "cell_type": "markdown",
   "id": "13626bea",
   "metadata": {
    "slideshow": {
     "slide_type": "slide"
    }
   },
   "source": [
    "No intervalo $[-\\pi,\\pi]$ calcula a serie de Fourier de $\\sin (x/2)$. Discute a converxencia\n",
    "da serie en todo $\\mathbb{R}$."
   ]
  },
  {
   "cell_type": "markdown",
   "id": "7309a920",
   "metadata": {
    "slideshow": {
     "slide_type": "slide"
    }
   },
   "source": [
    "A serie de Fourier dunha función definida no intervalo $[-\\pi,\\pi]$ está dada por\n",
    "$$\n",
    "SF_f = \\frac{a_0}{2}+\\sum_{n=1}^{\\infty} a_n \\cos nx + \\sum_{n=1}^{\\infty} b_n \\sin nx,\n",
    "$$\n",
    "onde\n",
    "$$\n",
    "a_0 = \\frac{1}{\\pi} \\int_{-\\pi}^{\\pi} f(x) \\mathrm{d}x, \\qquad  a_n = \\frac{1}{\\pi} \\int_{-\\pi}^{\\pi} f(x) \\cos nx \\mathrm{d}x, \\qquad b_n = \\frac{1}{\\pi} \\int_{-\\pi}^{\\pi} f(x) \\sin nx \\mathrm{d}x. \n",
    "$$\n",
    "Como a función $\\sin (x/2)$ é impar no intervalo o término independente, $a_0$, e os coeficientes dos cosenos son nulos, $a_n =0$.\n",
    "En canto aos coeficientes dos senos\n",
    "$$\n",
    "b_n = \\frac{1}{\\pi} \\int_{-\\pi}^{\\pi} \\sin (x/2) \\sin nx \\mathrm{d}x = \\frac{2}{\\pi} \\int_{0}^{\\pi} \\sin (x/2) \\sin nx \\mathrm{d}x\n",
    "=\\frac{1}{\\pi} \\int_{0}^{\\pi} \\left(\\cos\\left(\\frac{x}{2}-nx\\right)-\\cos\\left(\\frac{x}{2}+nx\\right)\\right)\\mathrm{d}x\n",
    "$$\n"
   ]
  },
  {
   "cell_type": "markdown",
   "id": "7c7bd30e",
   "metadata": {
    "slideshow": {
     "slide_type": "fragment"
    }
   },
   "source": [
    "$$\n",
    "= \\left. \\frac{1}{\\pi} \\left(\\frac{\\sin\\left(\\frac{x}{2}-nx\\right)}{\\left(\\frac{1}{2}-n\\right)}-\\frac{\\sin\\left(\\frac{x}{2}+nx\\right)}{\\left(\\frac{1}{2}+n\\right)}\\right)\\right]_0^{\\pi}\n",
    "= \\frac{1}{\\pi} \\left(\\frac{\\sin\\left(\\frac{\\pi}{2}-n\\pi\\right)}{\\frac{1}{2}-n}-\\frac{\\sin\\left(\\frac{\\pi}{2}+n\\pi\\right)}{\\frac{1}{2}+n}\\right)\n",
    "= \\frac{1}{\\pi} \\left(\\frac{(-1)^n}{\\frac{1}{2}-n}-\\frac{(-1)^n}{\\frac{1}{2}+n}\\right)\n",
    "$$\n",
    "$$=\\frac{2(-1)^n n}{\\pi \\left(\\frac{1}{4}-n^2\\right)}\n",
    "$$\n",
    "\n",
    "onde se usou de novo que a función é impar e que\n",
    "\n",
    "$$\n",
    "\\sin\\left(\\frac{\\pi}{2}\\pm n\\pi\\right) = \\sin\\left(\\frac{\\pi}{2}\\right) \\cos n\\pi \\pm \\cos\\left(\\frac{\\pi}{2}\\right) \\sin n\\pi =  \\cos n\\pi = (-1)^n\n",
    "$$\n",
    "\n",
    "Polo tanto, a serie de Fourier asociada a esa funcíon é\n",
    "$$\n",
    "SF_{\\sin (x/2)}=\\sum_{n=1}^{\\infty} \\frac{2(-1)^n n}{\\pi \\left(\\frac{1}{4}-n^2\\right)}\n",
    "\\sin (nx).\n",
    "$$\n",
    "\n",
    "O teorema de Dirichlet garántenos que esa serie de Fourier converxe á extensión periódica da función excepto nos puntos $x=n\\pi$, con $n$ enteiro, onde \n",
    "a extensión periódica da función presenta un salto\n",
    "$$\n",
    "\\lim_{x\\to n\\pi^-} = 1, \\qquad \\lim_{x\\to n\\pi^+}=-1.\n",
    "$$\n",
    "\n",
    "Neses puntos o teorema de Dirichlet establece que a serie converxe ao valor medio do salto, por tanto a serie\n",
    "converxe a cero en $x=n\\pi$. Véxase a figura."
   ]
  },
  {
   "attachments": {},
   "cell_type": "markdown",
   "id": "b251bf2c",
   "metadata": {
    "slideshow": {
     "slide_type": "slide"
    }
   },
   "source": [
    "<img src=\"imgs/figura4.png\" width=\"600\"/>"
   ]
  },
  {
   "cell_type": "markdown",
   "id": "b7173553",
   "metadata": {
    "slideshow": {
     "slide_type": "slide"
    }
   },
   "source": [
    "[//]: #https://math.stackexchange.com/questions/388570/how-to-expand-the-fourier-series-for-fx-max-0-frac-pi2-lvert-x-rver\n",
    "\n",
    "\n",
    "#### Determinar\n",
    "a serie de Fourier de\n",
    "\n",
    "$$\n",
    "f(x)=\\max \\{0, \\frac{\\pi}{2}-\\lvert x\\rvert \\} \\quad \\mathrm{para}~ x \\in [-\\pi, \\pi ]\n",
    "$$\n",
    "\n",
    "Sendo a función $2\\pi$-periódica. Representar a función."
   ]
  },
  {
   "cell_type": "markdown",
   "id": "f0ceabdd",
   "metadata": {
    "slideshow": {
     "slide_type": "slide"
    }
   },
   "source": [
    "Como a función é par, os coeficientes de $\\sin nx$ son todos cero. O termo constante é o valor medio da función en $[-\\pi,\\pi]$:\n",
    "\n",
    "$$\n",
    "\\frac{1}{2\\pi}\\int_{-\\pi}^\\pi f(x)\\,dx\\;=\\; \\frac{1}{2\\pi}\\left(\\frac{\\pi^2}{4}\\right) \\;=\\; \\frac{\\pi}{8}\n",
    "$$\n",
    "\n",
    "(A integral aquí avaliouse usando a fórmula para a área dun triángulo.)\n",
    "\n",
    "O coeficiente de \\cos nx vén dado pola fórmula\n",
    "$$\n",
    "a_n \\;=\\; \\frac{1}{\\pi}\\int_{-\\pi}^\\pi f(x)\\,\\cos nx\\;dx\n",
    "$$\n",
    "\n",
    "Dado que $f(x)$ é distinto de cero só en $[-\\pi/2,\\pi/2]$, isto é o mesmo que\n",
    "\n",
    "$$\n",
    "a_n \\;=\\; \\frac{1}{\\pi}\\int_{-\\pi/2}^{\\pi/2} f(x)\\,\\cos nx\\;dx\n",
    "$$\n",
    "\n"
   ]
  },
  {
   "cell_type": "markdown",
   "id": "a744d32c",
   "metadata": {
    "slideshow": {
     "slide_type": "slide"
    }
   },
   "source": [
    "Ademais, como $f(x) \\cos nx $ é unha función par, podemos restrinxir a $[0,\\pi/2]$ e duplicar a integral:\n",
    "\n",
    "$$\n",
    "a_n \\;=\\; \\frac{2}{\\pi}\\int_0^{\\pi/2} f(x)\\,\\cos nx\\;dx \\;=\\; \\frac{2}{\\pi}\\int_0^{\\pi/2} \\left(\\frac{\\pi}{2} - x\\right)\\,\\cos nx\\;dx\n",
    "$$\n",
    "\n",
    "A integral da dereita pódese avaliar mediante a integración por partes. O resultado é:\n",
    "\n",
    "$$\n",
    "a_n \\;=\\; \\begin{cases}\\dfrac{2}{\\pi n^2}~ \\text{se }~n\\equiv 1,3\\pmod{4}, \\\\[6pt] \\dfrac{4}{\\pi n^ 2} ~\\text{se }~n\\equiv 2\\pmod 4, \\\\[6pt] 0~\\text{se}~n\\equiv 0 \\pmod{4}.\\end{cases}\n",
    "$$\n",
    "\n",
    "Así\n",
    "\n",
    "$$\n",
    "f(x) \\;=\\; \\frac{\\pi}{8} + \\frac{2}{\\pi}\\cos x + \\frac{1}{\\pi}\\cos 2x + \\frac{2}{9\\pi}\\cos 3x + \\frac{2}{25\\pi}\\cos 5x + \\frac{1}{9\\pi}\\cos 6x + \\cdots.\n",
    "$$\n",
    "\n",
    "En forma de suma,\n",
    "$$\n",
    "f(x) \\;=\\; \\frac{\\pi}{8} \\,+\\, \\sum_{k=0}^\\infty \\frac{2}{\\pi(2k+1)^2} \\cos\\bigl((2k+1) x\\bigr) \\,+\\, \\sum_{k=0}^\\infty \\frac{1}{\\pi(2k+1)^2} \\cos\\bigl((4k+2)x\\bigr).\n",
    "$$"
   ]
  },
  {
   "cell_type": "markdown",
   "id": "991deed1",
   "metadata": {
    "slideshow": {
     "slide_type": "slide"
    }
   },
   "source": [
    "<img src=\"https://i.stack.imgur.com/12zH2.gif\" width=\"600\"/>"
   ]
  },
  {
   "cell_type": "markdown",
   "id": "59e5c0af",
   "metadata": {
    "slideshow": {
     "slide_type": "slide"
    }
   },
   "source": [
    "[//]: #https://math.stackexchange.com/questions/617254/calculate-the-sum-using-fourier-series-of-big-cos-fracx2-big\n",
    "\n",
    "#### Determina \n",
    "a suma $\\sum_{n=1}^\\infty \\dfrac{(-1)^{n-1}}{4n^2-1}$ usando series de Fourier para a función $|\\cos{\\frac{x}{2}}|$."
   ]
  },
  {
   "cell_type": "markdown",
   "id": "d9926ebf",
   "metadata": {
    "slideshow": {
     "slide_type": "slide"
    }
   },
   "source": [
    "O coseno é $2\\pi$-periódico, polo que $f(x)=|\\cos x/2|$ é $2\\pi$-periódico. Como é par, os coeficiente con seno desaparecerán, só imos os coeficientes coseno.\n",
    "\n",
    "Con $T=2\\pi$, temos\n",
    "\n",
    "$$\n",
    "S(x)=\\frac{a_0}2+\\sum_{n=1}^\\infty a_n \\cos \\left(\\frac{2\\pi}{T}nx\\right) \\\\\n",
    "a_n=\\frac 2T\\int_{-T/2}^{T/2} f(x) \\cos \\left(\\frac{2\\pi}{T}nx \\right)\\mathrm{d}x\n",
    "$$\n",
    "\n",
    "Dado que $\\cos (x/2)\\geq 0$ para $x\\in[-\\pi,\\pi]$,\n",
    "\n",
    "$$\n",
    "a_n=\\frac 1{\\pi}\\int_{-\\pi}^{\\pi} \\cos\\left(\\frac x2\\right) \\cos \\left(nx \\right)\\mathrm{d}x  \\\\\n",
    "a_n=\\frac{2}{\\pi}\\int_0^{\\pi} \\cos\\left(\\frac x2\\right) \\cos \\left(\\frac{2nx}2 \\right)\\mathrm{d}x\n",
    "$$\n",
    "\n",
    "E xa que $2\\cos a\\cos b=\\cos(a+b)+\\cos(a-b)$,\n",
    "\n",
    "$$\n",
    "a_n=\\frac{1}{\\pi}\\int_0^{\\pi} \\left( \\cos\\left(\\frac {2n+1}2x\\right) +\\cos\\left(\\frac {2n-1}2x \\right) \\right) \\mathrm{d}x  \\\\\n",
    "a_n=\\frac{1}{\\pi}\\left[\\frac 2{2n+1}\\sin \\left(\\frac {2n+1}2x\\right) + \\frac 2{2n-1}\\sin \\left (\\frac {2n-1}2x\\right)\\right]_0^\\pi  \\\\\n",
    "a_n=\\frac{1}{\\pi} \\left(\\frac 2{2n+1}\\sin \\left(\\frac {2n+1}2\\pi\\right) + \\frac 2{2n-1}\\ sin \\left(\\frac {2n-1}2\\pi\\right)\\right)\n",
    "$$\n",
    "\n",
    "E $\\sin \\left(\\frac {2n+1}2\\pi\\right)=\\sin \\left(n\\pi+\\frac {\\pi} 2\\right)=(-1)^n$, polo que\n",
    "\n"
   ]
  },
  {
   "cell_type": "markdown",
   "id": "a147c385",
   "metadata": {
    "slideshow": {
     "slide_type": "fragment"
    }
   },
   "source": [
    "$$\n",
    "a_n=\\frac{1}{\\pi} \\left(\\frac 2{2n+1}(-1)^n - \\frac 2{2n-1}(-1)^n\\right) \\\\\n",
    "a_n=\\frac{2(-1)^n}{\\pi}\\left(\\frac 1{2n+1} - \\frac 1{2n-1}\\right)=\\frac{2(-1)^ n}{\\pi}\\frac{-2}{4n^2-1}  \\\\\n",
    "a_n=\\frac{4}{\\pi}\\frac{(-1)^{n-1}}{4n^2-1}  \\\\\n",
    "$$\n",
    "\n",
    "E $a_0=\\frac 4{\\pi}$\n",
    "Agora, \n",
    "\n",
    "$$\n",
    "\\left|\\cos \\frac x2\\right|=\\frac{2}{\\pi}+\\frac{4}{\\pi}\\sum_{n=1}^\\infty \\frac{(-1)^{ n-1}}{4n^2-1} \\cos nx\n",
    "$$\n",
    "\n",
    "E para $x=0$,\n",
    "\n",
    "$$\n",
    "1=\\frac{2}{\\pi}+\\frac{4}{\\pi}\\sum_{n=1}^\\infty \\frac{(-1)^{n-1}}{4n^2- 1}\n",
    "$$\n",
    "\n",
    "E finalmente,\n",
    "\n",
    "$$\n",
    "\\sum_{n=1}^\\infty \\frac{(-1)^{n-1}}{4n^2-1}=\\frac {\\pi}4-\\frac{1}{2}\n",
    "$$"
   ]
  }
 ],
 "metadata": {
  "celltoolbar": "Slideshow",
  "kernelspec": {
   "display_name": "Python 3",
   "language": "python",
   "name": "python3"
  },
  "language_info": {
   "codemirror_mode": {
    "name": "ipython",
    "version": 3
   },
   "file_extension": ".py",
   "mimetype": "text/x-python",
   "name": "python",
   "nbconvert_exporter": "python",
   "pygments_lexer": "ipython3",
   "version": "3.7.16"
  }
 },
 "nbformat": 4,
 "nbformat_minor": 5
}
