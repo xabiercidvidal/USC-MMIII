{
 "cells": [
  {
   "cell_type": "markdown",
   "metadata": {
    "slideshow": {
     "slide_type": "slide"
    }
   },
   "source": [
    "# Métodos de integración\n",
    "\n",
    "A partir de los apuntes de la prof. Pilar Hernandez Gamazo (U. de València)"
   ]
  },
  {
   "cell_type": "code",
   "execution_count": 1,
   "metadata": {
    "slideshow": {
     "slide_type": "fragment"
    }
   },
   "outputs": [
    {
     "name": "stdout",
     "output_type": "stream",
     "text": [
      " Última ejecución   Thu Mar 16 10:42:41 2023\n"
     ]
    }
   ],
   "source": [
    "import time\n",
    "print(' Última ejecución  ', time.asctime() )"
   ]
  },
  {
   "cell_type": "markdown",
   "metadata": {
    "slideshow": {
     "slide_type": "slide"
    }
   },
   "source": [
    "## Objectivos\n",
    "\n",
    "Presentar y mostrar con ejemplos sencillos los diferentes métodos de integración\n",
    "\n",
    " * Integrales inmediatas,\n",
    " \n",
    " * Integración por partes,\n",
    " \n",
    " * Integración por sustitución,\n",
    " \n",
    " * Integración de fracciones de polinomios,\n",
    " \n",
    " * Integración de funciones trigonométicas.\n",
    "\n",
    "Presentar las integrales impropias y mostrar algunos ejemplos."
   ]
  },
  {
   "cell_type": "code",
   "execution_count": 2,
   "metadata": {
    "slideshow": {
     "slide_type": "slide"
    }
   },
   "outputs": [],
   "source": [
    "# general imports\n",
    "%matplotlib inline\n",
    "%reload_ext autoreload\n",
    "%autoreload 2\n",
    "\n",
    "# numpy and matplotlib\n",
    "import numpy as np\n",
    "import sympy as sp\n",
    "import matplotlib\n",
    "import matplotlib.pyplot as plt\n",
    "from mpl_toolkits.mplot3d import Axes3D\n",
    "matplotlib.style.use('ggplot')\n",
    "import graph_utils as gf\n",
    "\n",
    "figsize = 6, 3.8\n",
    "cmap    = 'hot'"
   ]
  },
  {
   "cell_type": "markdown",
   "metadata": {
    "slideshow": {
     "slide_type": "slide"
    }
   },
   "source": [
    "## Integrales inmediatas\n",
    "\n",
    "Alguna integrales son inmediatas gracias al 1er teorema del cálculo integral que nos dice que si $f(x)$ es una función continua.\n",
    "\n",
    "$$\n",
    "F(x) = \\int_a^x f(x) \\, \\mathrm{d}x \\;\\; \\Rightarrow \\;\\; F'(x) = f(x)\n",
    "$$"
   ]
  },
  {
   "cell_type": "markdown",
   "metadata": {
    "slideshow": {
     "slide_type": "slide"
    }
   },
   "source": [
    "Integrales inmediatas triviales\n",
    "\n",
    "$$\n",
    "\\int x^n \\, \\mathrm{d}x = \\frac{1}{n+1} x^{n+1}, \\, \\mathrm{si} \\, n \\ne -1,\\\\\n",
    "$$\n",
    "$$\n",
    "\\int e^x \\, \\mathrm{d}x = e^x , \\; \\int \\frac{1}{x} \\, \\mathrm{d}x = \\log x, \\, \\mathrm{si} \\, x \\gt 0 \\\\\n",
    "$$\n",
    "$$\n",
    "\\int \\cos x \\, \\mathrm{d}x = \\sin x, \\; \\int \\sin x \\, \\mathrm{d}x = - \\cos x, \\;\n",
    "\\int \\frac{1}{\\cos^2 x} \\, \\mathrm{d}x = \\tan x\n",
    "$$ \n",
    "\n",
    "¡En estos apuntes $\\log$ es siempre Neperiano!"
   ]
  },
  {
   "cell_type": "markdown",
   "metadata": {
    "slideshow": {
     "slide_type": "slide"
    }
   },
   "source": [
    "Otras integrales inmediatas no tan triviales:\n",
    "\n",
    "$$\n",
    "\\int \\frac{1}{1+x^2} \\, \\mathrm{d}x = \\arctan x, \\; \\int \\frac{1}{\\sqrt{1-x^2}} \\, \\mathrm{d}x = \\arcsin x, \\, \\mathrm{si} \\, -1 \\lt x \\lt 1,\n",
    "$$\n",
    "$$\n",
    "\\int \\frac{1}{\\sqrt{1+x^2}} \\, \\mathrm{d}x = \\mathrm{arcsinh} \\, x, \\,\n",
    "\\int \\frac{1}{\\sqrt{x^2-1}} \\, \\mathrm{d}x = \\mathrm{arccosh} \\, x, \\, \\mathrm{si} \\, |x| \\gt 1, \\\\\n",
    "\\int \\frac{1}{1-x^2} \\, \\mathrm{d}x = \\mathrm{arctanh} \\,  x, \\, \\mathrm{si} -1 \\lt x \\lt 1.\n",
    "$$"
   ]
  },
  {
   "cell_type": "markdown",
   "metadata": {
    "slideshow": {
     "slide_type": "subslide"
    }
   },
   "source": [
    "Recordemos:\n",
    "    \n",
    "$$\n",
    "\\sinh = \\frac{e^x-e^{-x}}{2}, \\; \\cosh = \\frac{e^x + e^{-x}}{2}, \\; \\tanh = \\frac{e^{2x}-1}{e^{2x}+1}\n",
    "$$\n",
    "\n",
    "y\n",
    "\n",
    "$$\n",
    "\\mathrm{arcsinh} \\, x = \\log \\left(x + \\sqrt{x^2+1} \\right), \\; \n",
    "\\mathrm{arccosh} \\, x = \\log \\left(x + \\sqrt{x^2-1} \\right), \\; \\mathrm{si} \\; x \\gt 1, \\\\\n",
    "\\mathrm{arctanh} \\, x = \\frac{1}{2}\\log \\frac{1+x}{1-x}, \\, \\mathrm{si} \\; 0 \\le x \\lt 1\\;.\n",
    "$$\n"
   ]
  },
  {
   "cell_type": "markdown",
   "metadata": {
    "slideshow": {
     "slide_type": "slide"
    }
   },
   "source": [
    "## Integración por partes\n",
    "\n",
    "Sean $f(x), \\, g(x)$ funciones continuas, entonces se cumple:\n",
    "\n",
    "$$\n",
    "\\int f(x) \\, g'(x) \\, \\mathrm{d}x = f(x) \\, g(x) - \\int f'(x) \\, g(x) \\, \\mathrm{d}x\n",
    "$$\n",
    "\n",
    "De:\n",
    "\n",
    "$$\n",
    "f(x) \\, g(x) = \\int \\left[f(x) \\, g(x)\\right]' \\, \\mathrm{d}x = \\int f'(x) \\, g(x) \\, \\mathrm{d}x + \\int f(x) \\, g'(x) \\, \\mathrm{d}x\n",
    "$$"
   ]
  },
  {
   "cell_type": "markdown",
   "metadata": {
    "slideshow": {
     "slide_type": "slide"
    }
   },
   "source": [
    "*Ejercicio:* Calcula\n",
    "    \n",
    "$$\n",
    "\\int x \\, e^x \\, \\mathrm{d}x\n",
    "$$\n",
    "\n",
    "*Solución:*\n",
    "\n",
    "tomamos: $f(x) = x, \\; g'(x) = e^x$, así $f'(x) = 1, \\; g(x) = e^x$, entonces:\n",
    "\n",
    "$$\n",
    "\\int x \\, e^x \\, \\mathrm{d}x = x \\, e^x - \\int e^x \\mathrm{dx} = x \\, e^x - e^x  = e^x \\, (x - 1).\n",
    "$$\n"
   ]
  },
  {
   "cell_type": "markdown",
   "metadata": {
    "slideshow": {
     "slide_type": "slide"
    }
   },
   "source": [
    "## Integrales por sustitución\n",
    "\n",
    "Sea $f(x), g'(x)$ continuas y $F(x)$ primitiva de $f(x)$, $F'(x) = f(x)$, se cumple:\n",
    "\n",
    "$$\n",
    "\\int f(g(x)) \\, g'(x) \\, \\mathrm{d}x = F(g(x))\n",
    "$$\n",
    "\n",
    "dado que por la regla de la cadena, se cumple:\n",
    "\n",
    "$$\n",
    "F(g(x))' = F'(g(x)) \\, f'(x) = f(g(x)) \\, g'(x)\n",
    "$$"
   ]
  },
  {
   "cell_type": "markdown",
   "metadata": {
    "slideshow": {
     "slide_type": "slide"
    }
   },
   "source": [
    "*Ejercicio*: Calcula\n",
    "    \n",
    "$$\n",
    "\\int \\frac{1}{x \\log x} \\mathrm{d}x \n",
    "$$\n",
    "    \n",
    "*Solución*:\n",
    "\n",
    "Si tomamos:\n",
    "\n",
    "$$\n",
    "f(x) = \\frac{1}{x}, \\; g'(x) = \\frac{1}{x} \\Rightarrow F(x) = \\log(x), \\, g(x) = \\log(x)\n",
    "$$\n",
    "\n",
    "Por lo tanto:\n",
    "\n",
    "$$\n",
    "f(g(x)) \\, g'(x) = \\frac{1}{x\\log x}\n",
    "$$\n",
    "$$\n",
    "\\int \\frac{1}{x \\log x} \\mathrm{d}x = \\log (\\log x)\n",
    "$$\n"
   ]
  },
  {
   "cell_type": "markdown",
   "metadata": {
    "slideshow": {
     "slide_type": "slide"
    }
   },
   "source": [
    "De forma equivalente podemos hacer el siguiente cambio de variable:\n",
    "    \n",
    "$$\n",
    "u = \\log x \\Rightarrow  \\mathrm{d}u = \\frac{1}{x} \\, \\mathrm{d}x\n",
    "$$\n",
    "\n",
    "Por lo tanto\n",
    "\n",
    "$$\n",
    "\\int \\frac{1}{x \\log x} \\, \\mathrm{d}x = \\int \\frac{1}{u} \\, \\mathrm{d}u = \\log u = \\log(\\log x)\n",
    "$$"
   ]
  },
  {
   "cell_type": "markdown",
   "metadata": {
    "slideshow": {
     "slide_type": "subslide"
    }
   },
   "source": [
    "En la siguiente celda verificaremos con *SymPy* la integral.\n",
    "\n",
    "*SymPy* es un módulo de *Python* que nos permite calcular derivadas, integrales, etc con cálculo simbólico."
   ]
  },
  {
   "cell_type": "code",
   "execution_count": 3,
   "metadata": {
    "slideshow": {
     "slide_type": "fragment"
    }
   },
   "outputs": [
    {
     "data": {
      "text/latex": [
       "$\\displaystyle \\log{\\left(\\log{\\left(x \\right)} \\right)}$"
      ],
      "text/plain": [
       "log(log(x))"
      ]
     },
     "execution_count": 3,
     "metadata": {},
     "output_type": "execute_result"
    }
   ],
   "source": [
    "x = sp.symbols(\"x\")\n",
    "sp.integrate(\"1/(x*log(x))\", x)"
   ]
  },
  {
   "cell_type": "markdown",
   "metadata": {
    "slideshow": {
     "slide_type": "slide"
    }
   },
   "source": [
    "## Integración de funciones racionales\n",
    "\n",
    "Estas integrales son:\n",
    "\n",
    "$$\n",
    "\\int \\frac{P_n(x)}{Q_m(x)} \\, \\mathrm{d}x\n",
    "$$\n",
    "donde el grado de los polinomios comple, $n < m$:\n",
    "\n",
    "$$\n",
    "P_n(x) = x^n + a_{n-1} x^{n-1} + \\dots + a_{0} \\\\\n",
    "Q_m(x) = x^m + b_{m-1} x^{m-1} + \\dots + b_{0}\n",
    "$$\n",
    "\n",
    "El método de integrar puede ser largo pero está bien definido.\n",
    "\n",
    "Se compone de los siguientes pasos:\n",
    "\n",
    " 1. calcular las raices del polinomio del denominador,\n",
    " \n",
    " 2. descomponer la razón en suma de razones más sencillas,\n",
    " \n",
    " 3. integrar cada razón sencilla cuyas integrales están tabuladas.\n",
    " \n",
    "*Cuestión:* En el caso de que la razón entre los polinomios sea $n \\ge m$, ¿cómo harías la integral?"
   ]
  },
  {
   "cell_type": "markdown",
   "metadata": {
    "slideshow": {
     "slide_type": "slide"
    }
   },
   "source": [
    "### Descomposición de polinomios\n",
    "\n",
    "\n",
    "El polinomio del denominador se puede descomponer en el producto de polinomios:\n",
    "\n",
    "$$\n",
    "Q_m(x) = (x-\\alpha_1)^{n_1} \\dots (x-\\alpha_p)^{n_p} \\; (x^2+\\beta_1x+\\gamma_1)^{m_1} \\dots (x^2+\\beta_q+\\gamma_q)^{m_q}\n",
    "$$\n",
    "\n",
    "donde las $\\alpha_i$ son las $p$ raices reales, $i=1, \\dots, p$, cada una de ellas con multiplicidad $n_i$.\n",
    "\n",
    "y las $\\beta_i, \\gamma_i$ son los valores reales que corresponden a las $q$ raices imaginarias, $i=1, \\dots, q$, que cumplen, $\\beta^2_i - 4 \\gamma_i \\lt 0$, y que cada una aparece con multiplicidad $m_i$."
   ]
  },
  {
   "cell_type": "markdown",
   "metadata": {
    "slideshow": {
     "slide_type": "slide"
    }
   },
   "source": [
    "*Ejemplo:* Descomponer el polinomio: $Q_3(x) = x^3 + 2x^2 +2x +1$\n",
    "\n",
    "Podemos comprobar que una raiz es $\\alpha = -1, \\; Q(-1) = -1 + 2 -2 + 1 = 0.$\n",
    "\n",
    "Luego el polinomio queda:\n",
    "\n",
    "$$\n",
    "Q_3(x) = (x +1) \\, (A x^2 + B x + C) = A x^3 + (A+B) x^2 + (B+C) x + C\n",
    "$$\n",
    "\n",
    "Por lo tanto:\n",
    "\n",
    "$$\n",
    "A = 1, \\; A+B = 2, \\; B+C = 2, \\; C = 1\n",
    "$$\n",
    "\n",
    "que tiene como solución: $A=B=C=1$.\n",
    "\n",
    "El polinomio $x^2 + x + 1$ no tiene raiz real sólo imaginaria, con $\\beta = 1, \\gamma = 1$, que cumplen $\\beta^2 - 4 \\gamma  = -3 < 0$.\n",
    "\n",
    "La descomposición del polinomio es:\n",
    "\n",
    "$$\n",
    "Q_3(x) = (x+1) \\, (x^2+x+1)\n",
    "$$\n"
   ]
  },
  {
   "cell_type": "markdown",
   "metadata": {
    "slideshow": {
     "slide_type": "slide"
    }
   },
   "source": [
    "### Suma de razones más sencillas\n",
    "\n",
    "Dada la descomposición de $Q_m(x)$, la razón de polinomios puede expresarse como suma de fracciones más simples de polinomios:\n",
    "\n",
    "$$\n",
    "\\frac{P_n(x)}{Q_m(x)} = \\sum_{i=1}^p \\frac{A^i_1}{(x-\\alpha_i)} + \\frac{A^i_2}{(x-\\alpha_i)^2} + \\dots + \\frac{A^i_{n_i}}{(x-\\alpha_i)^{n_i}}  \\\\\n",
    "+ \\sum_{j = 1}^{q} \\frac{B^j_1 x + C^j_1}{(x^2 + \\beta_j x + \\gamma_j)} + \\frac{B^j_2 x + C^j_2}{(x^2 + \\beta_j x + \\gamma_j)^2} + \\dots + \\frac{B^j_{m_j} x + C^j_{m_j}}{(x^2 + \\beta_j x + \\gamma_j)^{m_j}}\n",
    "$$"
   ]
  },
  {
   "cell_type": "markdown",
   "metadata": {
    "slideshow": {
     "slide_type": "slide"
    }
   },
   "source": [
    "*Ejemplo:* Expresa la siguiente razón como suma de fracciones simples:\n",
    "    \n",
    "$$\n",
    "\\frac{P_2(x)}{Q_3(x)} = \\frac{3x^2+3x+1}{x^3+2x^2+2x+1}\n",
    "$$\n",
    "\n",
    "El denominador sabemos que puede descomponerse en:\n",
    "\n",
    "$$\n",
    "Q_3(x) = (x+1) \\, (x^2+x+1)\n",
    "$$\n",
    "\n",
    "donde hay una raiz real $\\alpha_1 = -1$ con multiplicidad $n_1=1$, y una compleja con $\\beta_1 = 1, \\gamma = 1$ con multiplicidad $m_1 = 1$\n",
    "\n",
    "La razón de polinomios admite la siguiente suma:\n",
    "\n",
    "$$\n",
    "\\frac{3x^2+3x+1}{x^3+2x^2+2x+1} = \\frac{A}{x+1} + \\frac{Bx + C}{x^2+x+1}\n",
    "$$"
   ]
  },
  {
   "cell_type": "markdown",
   "metadata": {
    "slideshow": {
     "slide_type": "slide"
    }
   },
   "source": [
    "Para determinar los coeficientes $A, B$ y $C$ igualamos los numeradores:\n",
    "\n",
    "$$\n",
    "3x^2+3x+1 = A \\, (x^2+x+1) + (B x +C) \\, (x+1) \\\\ = (A+B) x^2 + (A+B+C) x+ (A+C)\n",
    "$$\n",
    "\n",
    "Lo que implica el siguiente conjunto de igualdades:\n",
    "\n",
    "$$\n",
    "A+B = 3, \\, A+B+C = 3, A+C = 1\n",
    "$$\n",
    "\n",
    "cuya solución es: $A = 1, B= 2, C = 0.$\n",
    "\n",
    "Por lo tanto:\n",
    "\n",
    "$$\n",
    "\\frac{3x^2+3x+1}{x^3+2x^2+2x+1} = \\frac{1}{x+1} + \\frac{2x}{x^2+x+1}\n",
    "$$"
   ]
  },
  {
   "cell_type": "markdown",
   "metadata": {
    "slideshow": {
     "slide_type": "slide"
    }
   },
   "source": [
    "### Integrales de las razones más sencillas\n",
    "\n",
    "La integral de una razón de polinomios, despues de descomponerla en suma de razones más simples, implica la siguientes posibles integrales:\n",
    "\n",
    "Para las raices reales con $n=1$\n",
    "\n",
    "$$\n",
    "\\int \\frac{A}{(x-\\alpha)} \\, \\mathrm{d}x = A \\, \\log(x-\\alpha)\n",
    "$$\n",
    "\n",
    "y para $n >1$:\n",
    "\n",
    "$$\n",
    "\\int \\frac{A}{(x-\\alpha)^n} \\, \\mathrm{d}x = - \\frac{1}{n-1} \\frac{A}{(x-\\alpha)^{n-1}}\n",
    "$$"
   ]
  },
  {
   "cell_type": "markdown",
   "metadata": {
    "slideshow": {
     "slide_type": "slide"
    }
   },
   "source": [
    "Para las raices complejas, para el caso $m = 1$\n",
    "\n",
    "$$\n",
    "\\int \\frac{B x + C}{(x^2 + \\beta x + \\gamma)} \\, \\mathrm{d} x= \\frac{B}{2} \\log (x^2+\\beta+\\gamma) \n",
    "+ \\frac{C - \\beta B /2}{\\sqrt{a}} \\arctan \\frac{x + \\beta/2}{\\sqrt{a}}\n",
    "$$\n",
    "\n",
    "donde $a = \\gamma - \\beta^2/4$\n",
    "\n",
    "y para el caso $m >1$:\n",
    "\n",
    "$$\n",
    "\\int \\frac{B x + C}{(x^2 + \\beta x + \\alpha)^m} \\, \\mathrm{d} x =\n",
    "- \\frac{B}{2(m - 1)} \\frac{1}{(x^2+\\beta x+ \\alpha)^{m-1}} \\\\\n",
    "+ \\frac{C - \\beta B /2}{a^m} \\sqrt{a} \\int \\frac{1}{(u^2+1)^m} \\, \\mathrm{d}u\n",
    "$$\n",
    "\n",
    "con $u = \\frac{x + \\beta/2}{\\sqrt{a}}$\n",
    "\n",
    "Y la última integral cumple una regla recurrente:\n",
    "\n",
    "$$\n",
    "\\int \\frac{1}{(u^2+1)^m} \\, \\mathrm{d}x = \\frac{2m-3}{2m-2} \\int \\frac{1}{(u^2+1)^{m-1}} \\,  \\mathrm{d}u + \\frac{1}{2m-2} \\frac{u}{(u^2+1)^{m-1}}\n",
    "$$\n"
   ]
  },
  {
   "cell_type": "markdown",
   "metadata": {
    "slideshow": {
     "slide_type": "slide"
    }
   },
   "source": [
    "*Ejemplo:* Calcula la integral:\n",
    "\n",
    "$$\n",
    "\\int \\frac{3x^2+3x+1}{x^3+2x^2+2x+1} \\, \\mathrm{d}x \n",
    "$$\n",
    "\n",
    "*Solución* La integral será la suma de las integrales de las razones de polinomios que obtuvimos antes.\n",
    "\n",
    "$$\n",
    "\\int \\frac{1}{x+1} \\, \\mathrm{d}x + \\int \\frac{2x}{x^2+x+1} \\, \\mathrm{d}x\n",
    "$$\n",
    "\n",
    "Por las reglas que vimos anteriormente, estas integrales valen:\n",
    "\n",
    "$$\n",
    "\\int \\frac{1}{x+1} \\, \\mathrm{d}x  = \\log (x+1) \n",
    "$$"
   ]
  },
  {
   "cell_type": "markdown",
   "metadata": {
    "slideshow": {
     "slide_type": "slide"
    }
   },
   "source": [
    "y \n",
    "\n",
    "$$\n",
    "\\int \\frac{2x}{x^2+x+1} \\, \\mathrm{d}x = \\int \\frac{2x+1}{x^2+x+1} \\mathrm{d} x - \\int \\frac{1}{x^2+x+1} \\, \\mathrm{d}x\\\\\n",
    "= \\log(x^2+2x+1) - \\frac{2}{\\sqrt{3}} \\arctan \\frac{2x+1}{\\sqrt{3}}\n",
    "$$\n",
    "\n",
    "Así:\n",
    "\n",
    "$$\n",
    "\\int \\frac{3x^2+3x+1}{x^3+2x^2+2x+1} \\, \\mathrm{d}x  = \n",
    "\\log (x+1) + \\log(x^2+2x+1) - \\frac{2}{\\sqrt{3}} \\arctan \\frac{2x+1}{\\sqrt{3}}\n",
    "$$\n"
   ]
  },
  {
   "cell_type": "markdown",
   "metadata": {
    "slideshow": {
     "slide_type": "subslide"
    }
   },
   "source": [
    "En las siguientes celdas verificaremos con *SymPy* las integrales"
   ]
  },
  {
   "cell_type": "code",
   "execution_count": 4,
   "metadata": {
    "slideshow": {
     "slide_type": "fragment"
    }
   },
   "outputs": [
    {
     "data": {
      "text/latex": [
       "$\\displaystyle \\log{\\left(x + 1 \\right)}$"
      ],
      "text/plain": [
       "log(x + 1)"
      ]
     },
     "execution_count": 4,
     "metadata": {},
     "output_type": "execute_result"
    }
   ],
   "source": [
    "x       = sp.symbols('x')\n",
    "sp.integrate(\"1/(x+1)\", x)"
   ]
  },
  {
   "cell_type": "code",
   "execution_count": 5,
   "metadata": {
    "slideshow": {
     "slide_type": "fragment"
    }
   },
   "outputs": [
    {
     "data": {
      "text/latex": [
       "$\\displaystyle \\log{\\left(x^{2} + x + 1 \\right)} - \\frac{2 \\sqrt{3} \\operatorname{atan}{\\left(\\frac{2 \\sqrt{3} x}{3} + \\frac{\\sqrt{3}}{3} \\right)}}{3}$"
      ],
      "text/plain": [
       "log(x**2 + x + 1) - 2*sqrt(3)*atan(2*sqrt(3)*x/3 + sqrt(3)/3)/3"
      ]
     },
     "execution_count": 5,
     "metadata": {},
     "output_type": "execute_result"
    }
   ],
   "source": [
    "sp.integrate(\"2*x/(x**2+x+1)\", x)"
   ]
  },
  {
   "cell_type": "markdown",
   "metadata": {
    "slideshow": {
     "slide_type": "slide"
    }
   },
   "source": [
    "## Integrales trigonométricas\n",
    "\n",
    "### Integrales con productos de $\\sin x$ y $\\cos x$\n",
    "\n",
    "Las integrales de la forma:\n",
    "\n",
    "$$\n",
    "\\int \\sin^n x \\cos^m x \\, \\mathrm{d}x\n",
    "$$\n",
    "\n",
    "Admiten los casos:\n",
    "\n",
    " * $n$ y $m$ son pares, $n= 2p, \\, m = 2q$. En ese caso utilizamos recursivamente el cambio: \n",
    " \n",
    "$$\n",
    " \\cos^2 x = \\frac{1+\\cos 2x}{2}, \\;  \\sin^2 x = \\frac{1-\\cos 2x}{2}\n",
    "$$\n",
    "\n",
    " * Si $n$ es impar, $n = 2p+1$, hacemos el cambio $u = \\cos x, \\; \\mathrm{d}u = - \\sin x \\, \\mathrm{d}x$:\n",
    " \n",
    " $$\n",
    " \\int \\sin^n x \\cos^m x \\, \\mathrm{d}x = \\int \\sin x \\sin^{2p}x \\cos^m x \\, \\mathrm{d}x \n",
    " = \\int - (1-u^2)^p u^m \\, \\mathrm{d}u\n",
    " $$\n",
    " \n",
    " * si $m$ es impar, $m = 2q+1$, hacemos el cambio $u = \\sin x, \\, \\mathrm{d}u = \\cos x \\, \\mathrm{dx}$:\n",
    " \n",
    " $$\n",
    " \\int \\sin^n x \\cos^m x \\, \\mathrm{d}x = \\int \\cos x \\cos^{2q}x \\sin^n x \\, \\mathrm{d}x \n",
    " = \\int  (1-u^2)^q u^n \\, \\mathrm{d}u\n",
    " $$\n",
    " \n",
    " "
   ]
  },
  {
   "cell_type": "markdown",
   "metadata": {
    "slideshow": {
     "slide_type": "slide"
    }
   },
   "source": [
    "### Integrales con productos de $\\sin a x$ y $\\cos b x$\n",
    "\n",
    "Aplicaremos los relaciones trigonométricas:\n",
    "\n",
    "$$\n",
    "\\cos ax \\, \\cos bx = \\frac{\\cos (a-b) \\, x + \\cos (a+b) \\, x}{2} \\\\\n",
    "\\sin ax \\, \\sin bx = \\frac{\\cos (a-b) \\, x - \\cos (a+b) \\, x}{2} \\\\\n",
    "\\sin ax \\, \\cos bx = \\frac{\\sin (a-b) \\, x + \\sin (a+b) \\, x}{2}\n",
    "$$"
   ]
  },
  {
   "cell_type": "markdown",
   "metadata": {
    "slideshow": {
     "slide_type": "slide"
    }
   },
   "source": [
    "### Integrales racionales con $\\cos x$ o $\\sin x$\n",
    "\n",
    "se pueden transformar en razones de polinomios con el cambio:\n",
    "\n",
    "$$\n",
    "u = \\tan \\frac{x}{2}, \\; \\mathrm{d}x = \\frac{2}{1+u^2} \\, \\mathrm{d}u \n",
    "$$\n",
    "\n",
    "así:\n",
    "\n",
    "$$\n",
    "\\sin x = \\frac{2u}{1+u^2}, \\; \\cos x = \\frac{1-u^2}{1+u^2}\n",
    "$$"
   ]
  },
  {
   "cell_type": "markdown",
   "metadata": {
    "slideshow": {
     "slide_type": "slide"
    }
   },
   "source": [
    "*Ejemplo:* Calcula la integral\n",
    "\n",
    "$$\n",
    "\\int \\tan(x) \\, \\mathrm{d}x\n",
    "$$\n",
    "\n",
    "con el cambio $u = \\cos x, \\; \\mathrm{d}u = - \\sin x \\, \\mathrm{d}x$\n",
    "\n",
    "$$\n",
    "\\int \\frac{\\sin x}{\\cos x} \\, \\mathrm{d}x = \\int -\\frac{1}{u} \\, \\mathrm{d}u = - \\log u = \\log \\frac{1}{u} = \\log \\frac{1}{\\cos x}\n",
    "$$"
   ]
  },
  {
   "cell_type": "markdown",
   "metadata": {
    "slideshow": {
     "slide_type": "subslide"
    }
   },
   "source": [
    "En la siguiente celda verificamos la integral con *SymPy*"
   ]
  },
  {
   "cell_type": "code",
   "execution_count": 6,
   "metadata": {
    "slideshow": {
     "slide_type": "fragment"
    }
   },
   "outputs": [
    {
     "data": {
      "text/latex": [
       "$\\displaystyle - \\log{\\left(\\cos{\\left(x \\right)} \\right)}$"
      ],
      "text/plain": [
       "-log(cos(x))"
      ]
     },
     "execution_count": 6,
     "metadata": {},
     "output_type": "execute_result"
    }
   ],
   "source": [
    "sp.integrate(\"tan(x)\", x)"
   ]
  },
  {
   "cell_type": "markdown",
   "metadata": {
    "slideshow": {
     "slide_type": "slide"
    }
   },
   "source": [
    "## Integrales impropias\n",
    "\n",
    "Llamamos integrales impropias aquellas en las que:\n",
    "\n",
    " * uno o los dos límites de integración son $\\pm \\infty$,\n",
    " \n",
    " * la función a integrar no está acotada en alguno de los valores del intervalo de integración."
   ]
  },
  {
   "cell_type": "markdown",
   "metadata": {
    "slideshow": {
     "slide_type": "slide"
    }
   },
   "source": [
    "### Límites de integración en el infinito\n",
    "\n",
    "En el caso de que uno de los límites sea $\\pm \\infty$, calculamos las integrales como un límite:\n",
    "\n",
    "$$\n",
    "\\int_a^\\infty f(x) \\, \\mathrm{d}x = \\lim_{b \\to \\infty} \\int_a^b f(x) \\, \\mathrm{d}x \\\\\n",
    "\\int_{-\\infty}^b f(x) \\, \\mathrm{d}x = \\lim_{a \\to -\\infty} \\int_a^b f(x) \\, \\mathrm{d}x \\\\\n",
    "$$\n",
    "\n",
    "Si el límite existe decimos que la integral converse, si no que diverge."
   ]
  },
  {
   "cell_type": "markdown",
   "metadata": {
    "slideshow": {
     "slide_type": "slide"
    }
   },
   "source": [
    "*Ejemplo:* Calcula la integral impropia\n",
    "\n",
    "$$\n",
    "\\int_1^\\infty \\frac{1}{x^2} \\, \\mathrm{d}x\n",
    "$$\n",
    "\n",
    "Calculamos:\n",
    "\n",
    "$$\n",
    "\\lim_{b \\to \\infty} \\int_1^b \\frac{1}{x^2} \\, \\mathrm{d}x = \\lim_{b \\to \\infty} \\left. -\\frac{1}{x} \\right|_1^b = - \\lim_{b\\to \\infty} \\frac{1}{b} + 1 = 1\n",
    "$$\n",
    "\n",
    "La integral converge"
   ]
  },
  {
   "cell_type": "markdown",
   "metadata": {
    "slideshow": {
     "slide_type": "subslide"
    }
   },
   "source": [
    "En la siguiente celda mostramos la integral"
   ]
  },
  {
   "cell_type": "code",
   "execution_count": 7,
   "metadata": {
    "slideshow": {
     "slide_type": "subslide"
    }
   },
   "outputs": [
    {
     "data": {
      "image/png": "[encoded data removed]",
      "text/plain": [
       "<Figure size 640x480 with 1 Axes>"
      ]
     },
     "metadata": {},
     "output_type": "display_data"
    }
   ],
   "source": [
    "fun = lambda x : 1/x**2\n",
    "a, b, size = 1, 1e2, 100\n",
    "xs  = np.linspace(a, b, size)\n",
    "plt.plot(xs, fun(xs), 'black'); # plt.plot(xs, np.zeros(100), 'black');\n",
    "plt.fill_between(xs, fun(xs), alpha = 0.5); \n",
    "plt.xlabel(r\"$x$\"); plt.ylabel(r\"$f(x)$\"); plt.title(r\"$f(x) = \\frac{1}{x^2}$\");"
   ]
  },
  {
   "cell_type": "markdown",
   "metadata": {
    "slideshow": {
     "slide_type": "slide"
    }
   },
   "source": [
    "*Ejemplo:* Calcula la integral impropia:\n",
    "\n",
    "$$\n",
    "\\int_1^\\infty \\frac{1}{x} \\, \\mathrm{d}x\n",
    "$$\n",
    "\n",
    "Calculamos:\n",
    "\n",
    "$$\n",
    "\\lim_{b \\to \\infty} \\int_1^b \\frac{1}{x} \\, \\mathrm{d}x = \\lim_{b \\to \\infty} \\left. -\\log x \\right|_1^b =  \\lim_{b\\to \\infty} \\log b - 0 = \\infty\n",
    "$$\n",
    "\n",
    "En este caso, la integral diverge"
   ]
  },
  {
   "cell_type": "markdown",
   "metadata": {
    "slideshow": {
     "slide_type": "subslide"
    }
   },
   "source": [
    "En la siguiente celda mostramos la integral"
   ]
  },
  {
   "cell_type": "code",
   "execution_count": 8,
   "metadata": {
    "slideshow": {
     "slide_type": "fragment"
    }
   },
   "outputs": [
    {
     "data": {
      "image/png": "[encoded data removed]",
      "text/plain": [
       "<Figure size 640x480 with 1 Axes>"
      ]
     },
     "metadata": {},
     "output_type": "display_data"
    }
   ],
   "source": [
    "fun = lambda x : 1/x\n",
    "a, b, size = 1, 1e2, 100\n",
    "xs  = np.linspace(a, b, size)\n",
    "plt.plot(xs, fun(xs), 'black'); # plt.plot(xs, np.zeros(100), 'black');\n",
    "plt.fill_between(xs, fun(xs), alpha = 0.5); \n",
    "plt.xlabel(r\"$x$\"); plt.ylabel(r\"$f(x)$\"); plt.title(r\"$f(x) = \\frac{1}{x}$\");"
   ]
  },
  {
   "cell_type": "markdown",
   "metadata": {
    "slideshow": {
     "slide_type": "slide"
    }
   },
   "source": [
    "### funciones no acotadas\n",
    "\n",
    "Si la función no está acotada en el extremo del intervalo, recurrimos de nuevo a calcular los límites.\n",
    "\n",
    "Por ejemplo, si la función no está acotada en $b$, el extremo superior del intervalo, entonces:\n",
    "\n",
    "$$\n",
    "\\int_a^b f(x)\\, \\mathrm{d}x \\equiv \\lim_{y \\to b}\\int_a^y f(x) \\, \\mathrm{d}x\n",
    "$$\n",
    "\n",
    "y de forma similar para el caso en el que la función no estuviese acotada en $a$.\n",
    "\n",
    "Si la función no está acotada en un punto $c$ en el interior del intervalo $[a, b]$:\n",
    "\n",
    "$$\n",
    "\\int_a^b f(x) \\, \\mathrm{d}x \\equiv \\lim_{y \\to c^-} \\int_a^y f(x) \\, \\mathrm{d}x + \\lim_{y \\to c^+} \\int_y^b f(x) \\, \\mathrm{d}x\n",
    "$$"
   ]
  },
  {
   "cell_type": "markdown",
   "metadata": {
    "slideshow": {
     "slide_type": "slide"
    }
   },
   "source": [
    "*Ejemplo:* Calcular la integral impropia\n",
    "\n",
    "$$\n",
    "\\int_0^1 \\frac{1}{\\sqrt{1-x}} \\, \\mathrm{d}x\n",
    "$$\n",
    "\n",
    "La función no está acotada en $b = 1$, por lo tanto calculamos:\n",
    "\n",
    "$$\n",
    "\\lim_{y \\to 1} \\int_0^y \\frac{1}{\\sqrt{1-x}} \\, \\mathrm{d}x = \\lim_{y \\to 1} \\left. - 2 \\sqrt{1-x} \\right|_0^y = \\lim_{y \\to 1} - 2 \\sqrt{1-y} + 2 = 2\n",
    "$$\n",
    "\n",
    "La integral converge."
   ]
  },
  {
   "cell_type": "markdown",
   "metadata": {
    "slideshow": {
     "slide_type": "subslide"
    }
   },
   "source": [
    "Lo verificamos en la siguiente celda:"
   ]
  },
  {
   "cell_type": "code",
   "execution_count": 9,
   "metadata": {
    "slideshow": {
     "slide_type": "fragment"
    }
   },
   "outputs": [
    {
     "data": {
      "text/latex": [
       "$\\displaystyle 2$"
      ],
      "text/plain": [
       "2"
      ]
     },
     "execution_count": 9,
     "metadata": {},
     "output_type": "execute_result"
    }
   ],
   "source": [
    "sp.integrate(\"1/sqrt(1-x)\", (x, 0, 1))"
   ]
  },
  {
   "cell_type": "markdown",
   "metadata": {
    "slideshow": {
     "slide_type": "subslide"
    }
   },
   "source": [
    "En la siguiente celda mostramos la integral:"
   ]
  },
  {
   "cell_type": "code",
   "execution_count": 10,
   "metadata": {
    "slideshow": {
     "slide_type": "fragment"
    }
   },
   "outputs": [
    {
     "data": {
      "image/png": "[encoded data removed]",
      "text/plain": [
       "<Figure size 640x480 with 1 Axes>"
      ]
     },
     "metadata": {},
     "output_type": "display_data"
    }
   ],
   "source": [
    "fun = lambda x : 1/np.sqrt(1-x) \n",
    "a, b, size = 0., 0.999, 100\n",
    "xs  = np.linspace(a, b, size)\n",
    "plt.plot(xs, fun(xs), 'black'); # plt.plot(xs, np.zeros(100), 'black');\n",
    "plt.fill_between(xs, fun(xs), alpha = 0.5); \n",
    "plt.xlabel(r\"$x$\"); plt.ylabel(r\"$f(x)$\"); plt.title(r\"$f(x) = \\frac{1}{\\sqrt{1-x}}$\")\n",
    "plt.ylim(0, 10);"
   ]
  },
  {
   "cell_type": "markdown",
   "metadata": {
    "slideshow": {
     "slide_type": "slide"
    }
   },
   "source": [
    "*Ejemplo*: Calcular la integral impropia\n",
    "\n",
    "$$\n",
    "\\int_0^2 \\frac{1}{(1-x)^2} \\, \\mathrm{d}x\n",
    "$$\n",
    "\n",
    "La función no está acotada en el punto interior $x = 1$.\n",
    "\n",
    "Calculamos la integral:\n",
    "\n",
    "$$\n",
    "\\lim_{y \\to 1^-} \\int_0^y \\frac{1}{(1-x)^2} \\, \\mathrm{d}x + \\lim_{y \\to 1^+} \\int_y^2 \\frac{1}{(1-x)^2} \\, \\mathrm{d}x \\\\\n",
    "= \\lim_{y \\to 1^-} \\left.  \\frac{1}{(1-x)} \\right|_0^y + \\lim_{y \\to 1^+} \\left.  \\frac{1}{(1-x)} \\right|_y^2 \\\\\n",
    "$$\n",
    "$$\n",
    "\\lim_{y \\to 1^-}   \\frac{1}{(1-y)} - \\lim_{y \\to 1^+} \\frac{1}{(1-y)} -2\n",
    "$$\n",
    "\n",
    "Ninguno de los dos límites existe y la integral diverge"
   ]
  },
  {
   "cell_type": "markdown",
   "metadata": {
    "slideshow": {
     "slide_type": "slide"
    }
   },
   "source": [
    "Comprobémoslo con *SymPy*:"
   ]
  },
  {
   "cell_type": "code",
   "execution_count": 11,
   "metadata": {
    "slideshow": {
     "slide_type": "fragment"
    }
   },
   "outputs": [
    {
     "data": {
      "text/latex": [
       "$\\displaystyle \\infty$"
      ],
      "text/plain": [
       "oo"
      ]
     },
     "execution_count": 11,
     "metadata": {},
     "output_type": "execute_result"
    }
   ],
   "source": [
    "sp.integrate(\"1/(1-x)^2\", (x, 0, 2))"
   ]
  },
  {
   "cell_type": "markdown",
   "metadata": {
    "slideshow": {
     "slide_type": "subslide"
    }
   },
   "source": [
    "En la siguiente celda mostramos la integral"
   ]
  },
  {
   "cell_type": "code",
   "execution_count": 12,
   "metadata": {
    "slideshow": {
     "slide_type": "subslide"
    }
   },
   "outputs": [
    {
     "data": {
      "image/png": "[encoded data removed]",
      "text/plain": [
       "<Figure size 640x480 with 1 Axes>"
      ]
     },
     "metadata": {},
     "output_type": "display_data"
    }
   ],
   "source": [
    "fun = lambda x : 1/(1-x)**2 \n",
    "a, b, size = 0., 2, 100\n",
    "xs  = np.linspace(a, b, size)\n",
    "plt.plot(xs, fun(xs), 'black'); plt.plot(xs, np.zeros(100), 'black');\n",
    "plt.fill_between(xs, fun(xs), alpha = 0.5); \n",
    "plt.xlabel(r\"$x$\"); plt.ylabel(r\"$f(x)$\"); plt.title(r\"$f(x) = \\frac{1}{(1-x)^2}$\")\n",
    "plt.ylim(0, 100);"
   ]
  }
 ],
 "metadata": {
  "anaconda-cloud": {},
  "celltoolbar": "Slideshow",
  "kernelspec": {
   "display_name": "Python 3 (ipykernel)",
   "language": "python",
   "name": "python3"
  },
  "language_info": {
   "codemirror_mode": {
    "name": "ipython",
    "version": 3
   },
   "file_extension": ".py",
   "mimetype": "text/x-python",
   "name": "python",
   "nbconvert_exporter": "python",
   "pygments_lexer": "ipython3",
   "version": "3.7.11"
  },
  "vscode": {
   "interpreter": {
    "hash": "43bf40b08b0c659beee69adf0e375d89f2700363cec8d5fb661c131f1f6d870f"
   }
  }
 },
 "nbformat": 4,
 "nbformat_minor": 1
}
