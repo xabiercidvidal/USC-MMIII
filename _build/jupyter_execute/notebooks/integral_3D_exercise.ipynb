{
 "cells": [
  {
   "cell_type": "markdown",
   "id": "caf26d0d",
   "metadata": {},
   "source": [
    "**Exame de Métodos Matemáticos III**\n",
    "\n",
    "**Curso 2018-2019, 21/5/2019**"
   ]
  },
  {
   "cell_type": "markdown",
   "id": "1afb23e1",
   "metadata": {},
   "source": [
    "Calcula o volume da cápsula delimitada polos paraboloides ${z=9-x^2-y^2}$ e ${z=3x^2+3y^2-16}$, ver figura."
   ]
  },
  {
   "cell_type": "markdown",
   "id": "47a50ffc",
   "metadata": {},
   "source": [
    "<img src=\"imgs/figura2.png\" width=300 align=\"center\" />"
   ]
  },
  {
   "cell_type": "markdown",
   "id": "a15d776e",
   "metadata": {},
   "source": [
    "Como a figura ten simetría de revolución arredor do eixo $z$ o xeito máis sinxelo de facer esa integral\n",
    "é considerar coordenadas cilíndricas,\n",
    "\n",
    "$$\n",
    "x=r \\cos \\theta, y=r \\sin \\theta, z=z. \n",
    "$$\n",
    "\n",
    "Nese sistema o elemento de volume é ${\\rm d}V = r {\\rm d}r{\\rm d}\\theta{\\rm d}z$. Os límites de integración\n",
    "en $z$ e $\\theta$ están dados por\n",
    "\n",
    "$$\n",
    "3r^2-16 \\leq z \\leq 9-r^2,\\text{ e}, 0 \\leq \\theta \\leq 2\\pi.\n",
    "$$  \n",
    "\n",
    "O límite superior en $r$ está dado pola solución positiva da ecuación\n",
    "\n",
    "$$\n",
    "9-r^2=3r^2-16 \\Rightarrow 4r^2=25 \\Rightarrow r = \\frac{5}{2},\n",
    "$$\n",
    "polo que $0 \\leq r \\leq 5/2$. \n",
    "\n",
    "O volume da cápsula é\n",
    "\n",
    "$$\n",
    "\\int_0^{\\frac{5}{2}}\\int_0^{2\\pi}\\int_{3r^2-16}^{9-r^2} r{\\rm d}z{\\rm d}\\theta{\\rm d}r =\n",
    "\\int_0^{\\frac{5}{2}}\\int_0^{2\\pi}  r \\left. z \\right]_{3r^2-16}^{9-r^2} {\\rm d}\\theta{\\rm d}r =\n",
    "\\int_0^{\\frac{5}{2}}\\int_0^{2\\pi}  r (25-4r^2) {\\rm d}\\theta{\\rm d}r =\n",
    "$$\n",
    "\n",
    "$$\n",
    "\\int_0^{\\frac{5}{2}} r (25-4r^2) \\left. \\theta \\right]_0^{2\\pi} {\\rm d}r =\n",
    "\\int_0^{\\frac{5}{2}} 2\\pi r (25-4r^2) {\\rm d}r\n",
    "=  \\left. -\\frac{\\pi}{8} (25-4r^2)^2 \\right]_0^{\\frac{5}{2}} =  -\\frac{\\pi}{8} (0-25^2) = \\pi \\frac{625}{8}.\n",
    "$$"
   ]
  }
 ],
 "metadata": {
  "kernelspec": {
   "display_name": "Python 3",
   "language": "python",
   "name": "python3"
  },
  "language_info": {
   "codemirror_mode": {
    "name": "ipython",
    "version": 3
   },
   "file_extension": ".py",
   "mimetype": "text/x-python",
   "name": "python",
   "nbconvert_exporter": "python",
   "pygments_lexer": "ipython3",
   "version": "3.9.6"
  }
 },
 "nbformat": 4,
 "nbformat_minor": 5
}