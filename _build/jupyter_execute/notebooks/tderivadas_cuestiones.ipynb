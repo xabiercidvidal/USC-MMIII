{
 "cells": [
  {
   "attachments": {},
   "cell_type": "markdown",
   "metadata": {
    "slideshow": {
     "slide_type": "slide"
    }
   },
   "source": [
    "# Introduccion : Cuestiones y discusión"
   ]
  },
  {
   "cell_type": "code",
   "execution_count": 1,
   "metadata": {
    "slideshow": {
     "slide_type": "fragment"
    }
   },
   "outputs": [
    {
     "name": "stdout",
     "output_type": "stream",
     "text": [
      " Última ejecución  Thu Mar  6 17:01:08 2025\n"
     ]
    }
   ],
   "source": [
    "import time\n",
    "print(' Última ejecución ', time.asctime() )"
   ]
  },
  {
   "cell_type": "markdown",
   "metadata": {
    "slideshow": {
     "slide_type": "slide"
    }
   },
   "source": [
    "### Objectivos\n",
    "\n",
    "\n",
    "Resolver las cuestiones y formularios propuestos durante las clases expositivas"
   ]
  },
  {
   "cell_type": "code",
   "execution_count": 2,
   "metadata": {
    "slideshow": {
     "slide_type": "subslide"
    }
   },
   "outputs": [],
   "source": [
    "# general imports\n",
    "%matplotlib inline\n",
    "\n",
    "# numpy and matplotlib\n",
    "import numpy as np\n",
    "import matplotlib\n",
    "import matplotlib.pyplot as plt\n",
    "\n",
    "from mpl_toolkits.mplot3d import Axes3D\n",
    "# possible styles: ggplot (simplicity), bmh (scientify data), \n",
    "matplotlib.style.use('ggplot')"
   ]
  },
  {
   "cell_type": "markdown",
   "metadata": {
    "slideshow": {
     "slide_type": "slide"
    }
   },
   "source": [
    "## Parametrización de líneas\n",
    "\n"
   ]
  },
  {
   "cell_type": "markdown",
   "metadata": {
    "slideshow": {
     "slide_type": "slide"
    }
   },
   "source": [
    "### Cuestión\n",
    "\n",
    "La siguiente parametrización corresponde a una hélice en el eje $z$:\n",
    "\n",
    "$$\n",
    " {\\bf r} (t) = \\left( r \\cos \\omega \\,t \\, , \\; r \\sin \\omega \\, t , \\; v_z \\, t \\right)  \n",
    "$$\n",
    "\n",
    "¿Puedes reparametrizarla en función de la longitud de arco?\n"
   ]
  },
  {
   "cell_type": "code",
   "execution_count": 3,
   "metadata": {
    "slideshow": {
     "slide_type": "subslide"
    }
   },
   "outputs": [
    {
     "ename": "TypeError",
     "evalue": "gca() got an unexpected keyword argument 'projection'",
     "output_type": "error",
     "traceback": [
      "\u001b[0;31m---------------------------------------------------------------------------\u001b[0m",
      "\u001b[0;31mTypeError\u001b[0m                                 Traceback (most recent call last)",
      "Cell \u001b[0;32mIn[3], line 6\u001b[0m\n\u001b[1;32m      4\u001b[0m ys \u001b[38;5;241m=\u001b[39m r  \u001b[38;5;241m*\u001b[39m np\u001b[38;5;241m.\u001b[39msin(w \u001b[38;5;241m*\u001b[39m ts)\n\u001b[1;32m      5\u001b[0m zs \u001b[38;5;241m=\u001b[39m vz \u001b[38;5;241m*\u001b[39m ts\n\u001b[0;32m----> 6\u001b[0m fig \u001b[38;5;241m=\u001b[39m plt\u001b[38;5;241m.\u001b[39mfigure(); ax \u001b[38;5;241m=\u001b[39m \u001b[43mfig\u001b[49m\u001b[38;5;241;43m.\u001b[39;49m\u001b[43mgca\u001b[49m\u001b[43m(\u001b[49m\u001b[43mprojection\u001b[49m\u001b[38;5;241;43m=\u001b[39;49m\u001b[38;5;124;43m'\u001b[39;49m\u001b[38;5;124;43m3d\u001b[39;49m\u001b[38;5;124;43m'\u001b[39;49m\u001b[43m)\u001b[49m\n\u001b[1;32m      7\u001b[0m ax\u001b[38;5;241m.\u001b[39mplot(xs, ys, zs)\n\u001b[1;32m      8\u001b[0m plt\u001b[38;5;241m.\u001b[39mxlabel(\u001b[38;5;124m'\u001b[39m\u001b[38;5;124m$x$\u001b[39m\u001b[38;5;124m'\u001b[39m); plt\u001b[38;5;241m.\u001b[39mylabel(\u001b[38;5;124m'\u001b[39m\u001b[38;5;124m$y$\u001b[39m\u001b[38;5;124m'\u001b[39m); ax\u001b[38;5;241m.\u001b[39mset_zlabel(\u001b[38;5;124m'\u001b[39m\u001b[38;5;124mz\u001b[39m\u001b[38;5;124m'\u001b[39m); \u001b[38;5;66;03m#plt.axis('equal')\u001b[39;00m\n",
      "\u001b[0;31mTypeError\u001b[0m: gca() got an unexpected keyword argument 'projection'"
     ]
    },
    {
     "data": {
      "text/plain": [
       "<Figure size 640x480 with 0 Axes>"
      ]
     },
     "metadata": {},
     "output_type": "display_data"
    }
   ],
   "source": [
    "ts = np.linspace(0., 8*np.pi, 400)\n",
    "r, w, vz = 1., 1., 2.\n",
    "xs = r  * np.cos(w * ts)\n",
    "ys = r  * np.sin(w * ts)\n",
    "zs = vz * ts\n",
    "fig = plt.figure(); ax = fig.gca(projection='3d')\n",
    "ax.plot(xs, ys, zs)\n",
    "plt.xlabel('$x$'); plt.ylabel('$y$'); ax.set_zlabel('z'); #plt.axis('equal')\n",
    "plt.tight_layout();"
   ]
  },
  {
   "cell_type": "markdown",
   "metadata": {
    "slideshow": {
     "slide_type": "slide"
    }
   },
   "source": [
    "Con $t \\in [0, 8 \\pi]$\n",
    "\n",
    "$$\n",
    " {\\bf r} (t) = \\left( r \\cos \\omega \\,t \\, , \\; r \\sin \\omega \\, t , \\; v_z \\, t \\right)  \n",
    "$$\n",
    "\n",
    "$$\n",
    " {\\bf r'} (t) = \\left( -r \\omega \\sin \\omega \\,t \\, , \\; r \\omega \\cos \\omega \\, t , \\; v_z \\right)  \n",
    "$$\n",
    "\n",
    "$$\n",
    "|| {\\bf r'(t)} || = \\sqrt{ r^2 \\omega^2 (\\sin^2 \\omega \\, t + \\cos^2 \\omega t) + v^2_z )} = \\sqrt{r^2 \\omega^2 + v^2_z}\n",
    "$$\n",
    "\n",
    "Con $ \\omega = 1, v_z = 1$, $||{\\bf r'}(t) || = \\sqrt{r^2 + 1}$\n",
    "\n",
    "$$\n",
    "s = \\int_0^t ||{\\bf r'(t} || \\, \\mathrm{d}t = \\int_0^t \\sqrt{r^2 \\omega^2 + v_z^2} \\mathrm{d}t =  \\sqrt{r^2 \\omega^2 + v_z^2} \\; t\n",
    "$$\n",
    "\n",
    "\n",
    "\n",
    "\n"
   ]
  },
  {
   "cell_type": "markdown",
   "metadata": {
    "slideshow": {
     "slide_type": "slide"
    }
   },
   "source": [
    "Al ser:\n",
    "\n",
    "$$\n",
    "s =  \\sqrt{r^2 \\omega^2 + v_z^2} \\; t\n",
    "$$\n",
    "\n",
    "\n",
    "\n",
    "\n",
    "Con $s \\in [0, 8 \\pi \\sqrt{r^2 \\omega^2 + v^2_z}]$\n",
    "\n",
    "$$\n",
    " {\\bf r} (s) = \\left( r \\cos \\omega \\,\\frac{s}{\\sqrt{r^2 \\omega^2 + v^2_z}} \\, , \n",
    " \\; r \\sin \\omega \\, \\frac{s}{\\sqrt{r^2 \\omega^2 + v^2_z}} , \\; v_z \\, \\frac{s}{\\sqrt{r^2 \\omega^2 + v^2_z}} \\right)  \n",
    "$$\n",
    "\n"
   ]
  },
  {
   "cell_type": "markdown",
   "metadata": {
    "slideshow": {
     "slide_type": "slide"
    }
   },
   "source": [
    "\n",
    "### Cuestión\n",
    "\n",
    "**Ejercicio**: Intenta parametrizar y dibujar la trayectoria que describe un punto de una rueda de radio $r$ de una bicicleta cuando ésta se desplaza horizontal y en línea recta con velocidad $v_x$."
   ]
  },
  {
   "cell_type": "markdown",
   "metadata": {
    "slideshow": {
     "slide_type": "skip"
    }
   },
   "source": [
    "*solución*:\n",
    "    \n",
    "En un periodo $T$ un punto en la rueda ha recorrido $2 \\pi r $ que corresponde a la distancia que el centro de la rueda se ha displazado en $x$ que es $v_x T$.\n",
    "Si despejamos la frecuencia de rotación: $\\omega = 2 \\pi /T = v_x /r$. \n",
    "\n",
    "El punto empeza en $(0, 0)$, y el centro de la rueda está en $(0, r)$.\n",
    "\n",
    "Así tenemos:\n",
    "\n",
    "$\n",
    "x(t) = v_x t - r \\sin(v_x t/r) \n",
    "$\n",
    "\n",
    "$\n",
    "y(t) = r \\, (1 - \\cos(v_x t/r))\n",
    "$\n",
    "\n",
    "Es una *cicloide*.\n"
   ]
  },
  {
   "cell_type": "code",
   "execution_count": 4,
   "metadata": {
    "slideshow": {
     "slide_type": "subslide"
    }
   },
   "outputs": [
    {
     "data": {
      "image/png": "[encoded data removed]",
      "text/plain": [
       "<Figure size 576x432 with 1 Axes>"
      ]
     },
     "metadata": {},
     "output_type": "display_data"
    }
   ],
   "source": [
    "fig, ax = plt.subplots(figsize=(8, 6))\n",
    "v, r = 1., 2.\n",
    "ts = np.linspace(0., 8*np.pi*r, 200)\n",
    "xs = v*ts - r* np.sin(v*ts/r)\n",
    "ys = r*(1-np.cos(v*ts/r))\n",
    "ax.plot(xs, ys, color='blue', lw=2)\n",
    "xxs = r*np.sin(v*ts/r)\n",
    "ax.plot(xxs, ys, color='red', lw=2)\n",
    "ax.set_ylim((-1., 12.)); ax.set_xlim((-3., 15.))\n",
    "ax.set_xlabel('$x$'); ax.set_ylabel('$y$')\n",
    "ax.set_aspect('equal'); fig.tight_layout(); ax.set_ylim(0., 5.);"
   ]
  },
  {
   "cell_type": "markdown",
   "metadata": {
    "slideshow": {
     "slide_type": "slide"
    }
   },
   "source": [
    "**¡Esto es todo por ahora!**"
   ]
  }
 ],
 "metadata": {
  "anaconda-cloud": {},
  "celltoolbar": "Slideshow",
  "kernelspec": {
   "display_name": "Python 3",
   "language": "python",
   "name": "python3"
  },
  "language_info": {
   "codemirror_mode": {
    "name": "ipython",
    "version": 3
   },
   "file_extension": ".py",
   "mimetype": "text/x-python",
   "name": "python",
   "nbconvert_exporter": "python",
   "pygments_lexer": "ipython3",
   "version": "3.9.6"
  },
  "vscode": {
   "interpreter": {
    "hash": "43bf40b08b0c659beee69adf0e375d89f2700363cec8d5fb661c131f1f6d870f"
   }
  }
 },
 "nbformat": 4,
 "nbformat_minor": 1
}