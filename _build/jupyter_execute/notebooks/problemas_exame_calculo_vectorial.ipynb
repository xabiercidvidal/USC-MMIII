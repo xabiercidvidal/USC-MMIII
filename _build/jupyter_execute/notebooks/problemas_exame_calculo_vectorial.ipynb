{
 "cells": [
  {
   "cell_type": "markdown",
   "id": "b4b5b0f8",
   "metadata": {
    "slideshow": {
     "slide_type": "slide"
    }
   },
   "source": [
    "#### Razoa se son verdadeiras ou falsas as seguintes afirmacións:\n",
    "\n",
    "$$\n",
    "\\mathrm{a)}~\\frac{2}{\\pi} \\leq  \\int_0^{\\frac{\\pi}{2}} \\frac{\\sin x}{x} \\mathrm{d}x.\n",
    "$$"
   ]
  },
  {
   "cell_type": "markdown",
   "id": "f5c82c17",
   "metadata": {
    "slideshow": {
     "slide_type": "fragment"
    }
   },
   "source": [
    "No intervalo de integración $\\sin x \\geq 0$ e\n",
    "\n",
    "$$\n",
    "x \\leq \\frac{\\pi}{2} \\Rightarrow \\frac{2}{\\pi} \\leq \\frac{1}{x} \\Rightarrow \\frac{2}{\\pi}\\sin x \\leq \\frac{\\sin x}{x} \\Rightarrow  \\int_0^{\\frac{\\pi}{2}} \\frac{2}{\\pi}\\sin x \\mathrm{d}x \\leq \\int_0^{\\frac{\\pi}{2}} \\frac{\\sin x}{x} \\mathrm{d}x\n",
    "$$\n",
    "$$\n",
    "\\Rightarrow  \\frac{2}{\\pi} [-\\cos x]_0^{\\frac{\\pi}{2}} \\leq \\int_0^{\\frac{\\pi}{2}} \\frac{\\sin x}{x} \\mathrm{d}x \\Rightarrow \\frac{2}{\\pi} \\leq  \\int_0^{\\frac{\\pi}{2}} \\frac{\\sin x}{x} \\mathrm{d}x, \\text{ a afirmación é verdadeira.}\n",
    "$$"
   ]
  },
  {
   "cell_type": "markdown",
   "id": "4c66291b",
   "metadata": {
    "slideshow": {
     "slide_type": "slide"
    }
   },
   "source": [
    "#### Razoa se son verdadeiras ou falsas as seguintes afirmacións:\n",
    "\n",
    "\n",
    "b) A rexión $D$ da figura ten unha área de 7 unidades. Sexa o campo vectorial ${\\vec{F}(x,y)=(-y,x)}$, entón\n",
    "\n",
    "$$\n",
    "\\oint_C \\vec{F} \\cdot {\\rm d}\\vec{r} = -14,\n",
    "$$\n",
    "\n",
    "onde $C$ indica a curva que rodea a $D$ circulada na dirección que indican as frechas.\n",
    "\n",
    "<img src=\"imgs/figura.png\" width=200 align=\"center\" />\n"
   ]
  },
  {
   "cell_type": "markdown",
   "id": "48496d7c",
   "metadata": {
    "slideshow": {
     "slide_type": "fragment"
    }
   },
   "source": [
    "A rexión $D$ da figura ten unha área de 7 unidades. Sexa o campo vectorial ${\\vec{F}(x,y)=(-y,x)}$, entón\n",
    "\n",
    "$$\n",
    "\\oint_C \\vec{F} \\cdot {\\rm d}\\vec{r} = -14,\n",
    "$$\n",
    "\n",
    "onde $C$ indica a curva que rodea a $D$ circulada na dirección que indican as frechas.\n",
    "\n",
    "Polo teorema de Green\n",
    "\n",
    "$$\n",
    "\\oint_C  \\vec{F} \\cdot {\\rm d}\\vec{r} = \\iint_D \\left(\\left(\\frac{\\partial F_y}{\\partial x}\\right)-\\left(\\frac{\\partial F_x}{\\partial y}\\right)\\right) {\\rm d}S\n",
    "= \\iint_D \\left(\\left(\\frac{\\partial x}{\\partial x}\\right)-\\left(\\frac{\\partial (-y)}{\\partial y}\\right)\\right) {\\rm d}S = \\iint_D 2 {\\rm d}S = 2A = 14\n",
    "$$\n",
    "\n",
    "onde a circulación da curva se fai no sentido contrario ao das agullas dun reloxo. Pero como se indica que a curva se circula no sentido das agullas do reloxo, temos que cambiar o signo, \n",
    "e a afirmación é verdadeira."
   ]
  },
  {
   "cell_type": "markdown",
   "id": "df2acd76",
   "metadata": {
    "slideshow": {
     "slide_type": "slide"
    }
   },
   "source": [
    "#### Verifica o teorema de Stokes para a superficie\n",
    "\n",
    "$$\n",
    "\\vec{S}(u,v) = (u \\cos v, u \\sin v, u),\n",
    "$$\n",
    "\n",
    "con $0 \\leq u \\leq 1$ e $0 \\leq v \\leq \\pi/2$, e o campo\n",
    "\n",
    "$$\n",
    "\\vec{F}(x,y,z)=(z,x,y).\n",
    "$$"
   ]
  },
  {
   "cell_type": "markdown",
   "id": "172e3859",
   "metadata": {
    "slideshow": {
     "slide_type": "fragment"
    }
   },
   "source": [
    "O teorema de Stokes establece que para unha superficie $\\vec{S}$\n",
    "$$\n",
    "\\int_S \\vec{\\nabla} \\times \\vec{F} \\cdot {\\rm d}\\vec{S} = \\int_C \\vec{F}\\cdot {\\rm d}\\vec{r},\n",
    "$$\n",
    "onde $C$ é a curva que rodea a superficie percorrida segundo a prescrición da man dereita (ver a figura).\n",
    "\n",
    "\n",
    "<img src=\"imgs/figura3.png\" width=200 align=\"center\" />\n",
    "\n",
    "Para esa superficie\n",
    "$$\n",
    "{\\rm d}\\vec{S} = \\pm \\left|\n",
    "\\begin{array}{ccc}\n",
    "\\hat{i} & \\hat{j} & \\hat{k} \\\\\n",
    "\\frac{\\partial S_x}{\\partial u} & \\frac{\\partial S_y}{\\partial u} & \\frac{\\partial S_z}{\\partial v} \\\\\n",
    "\\frac{\\partial S_x}{\\partial v} & \\frac{\\partial S_y}{\\partial v} & \\frac{\\partial S_z}{\\partial v}\n",
    "\\end{array}\n",
    "\\right| {\\rm d}u{\\rm d}v\n",
    "=\n",
    "\\pm \\left|\n",
    "\\begin{array}{ccc}\n",
    "\\hat{i} & \\hat{j} & \\hat{k} \\\\\n",
    "\\cos v & \\sin v & 1 \\\\\n",
    "-u\\sin v & u \\cos v & 0\n",
    "\\end{array}\n",
    "\\right| {\\rm d}u{\\rm d}v\n",
    "= \\pm (-\\cos v, -\\sin v,1) u {\\rm d}u{\\rm d}v.\n",
    "$$\n",
    "Temos arbitrariedade para escoller a orientación da superficie. Se escollemos a da figura temos que tomar o signo\n",
    "negativo en ${\\rm d}\\vec{S}$.\n",
    "\n"
   ]
  },
  {
   "cell_type": "markdown",
   "id": "3b0457d7",
   "metadata": {
    "slideshow": {
     "slide_type": "slide"
    }
   },
   "source": [
    "Por outra banda\n",
    "$$\n",
    "\\vec{\\nabla} \\times \\vec{F} =  \\left|\n",
    "\\begin{array}{ccc}\n",
    "\\hat{i} & \\hat{j} & \\hat{k} \\\\\n",
    "\\frac{\\partial \\phantom{F}}{\\partial x} & \\frac{\\partial \\phantom{F}}{\\partial y} & \\frac{\\partial \\phantom{F}}{\\partial z} \\\\\n",
    "F_x & F_y & F_z\n",
    "\\end{array}\n",
    "\\right| =\n",
    "\\left|\n",
    "\\begin{array}{ccc}\n",
    "\\hat{i} & \\hat{j} & \\hat{k} \\\\\n",
    "\\frac{\\partial \\phantom{F}}{\\partial x} & \\frac{\\partial \\phantom{F}}{\\partial y} & \\frac{\\partial \\phantom{F}}{\\partial z} \\\\ \n",
    "z & x & y\n",
    "\\end{array}\n",
    "\\right| = \\frac{\\partial y}{\\partial y} \\hat{i} +  \\frac{\\partial z}{\\partial z} \\hat{j} +  \\frac{\\partial x}{\\partial x} \\hat{k}\n",
    "= (1,1,1),\n",
    "$$\n",
    "\n",
    "e por tanto, coa prescrición escollida,\n",
    "\n",
    "$$\n",
    "\\int_S \\vec{\\nabla} \\times \\vec{F} \\cdot {\\rm d}\\vec{S} = \\int_0^1 \\int_0^{\\pi/2} (1,1,1)\\cdot (\\cos v, \\sin v,-1) u {\\rm d}u{\\rm d} v\n",
    "=\\int_0^1 \\int_0^{\\pi/2} (\\cos v+\\sin v-1)u{\\rm d}u{\\rm d}v\n",
    "$$\n",
    "\n",
    "$$\n",
    "=\\left(\\int_0^1 u{\\rm d}u\\right)\\left(\\int_0^{\\pi/2}(\\cos v, \\sin v,-1){\\rm d}v\\right) = \\left. \\frac{u^2}{2}\\right]_0^1 \\left. \\left(\\sin v-\\cos v-v\\right)\\right]_0^{\\pi/2}\n",
    "=\\frac{1}{2}\\left(2-\\frac{\\pi}{2}\\right) = 1-\\frac{\\pi}{4}\n",
    "$$\n",
    "\n",
    "A superficie cumpre $x^2+y^2 = z^2$, é dicir, é un cuarto dun cono que vai desde $z=0$ ata $z=1$, collendo so o primeiro cadrante.\n",
    "A fronteira desa superficie está delimitada por tres curvas simples, $C = \\vec{l}_1 \\cup \\vec{l}_2 \\cup \\vec{l}_3$, tal como indica a figura.\n",
    "Se empezamos a circulala pola vértice inferior a curva $\\vec{l}_1$ correspóndese coa fronteira da superficie na que $v=\\pi/2$ e por tanto pode\n",
    "parametrizarse como:\n",
    "\n",
    "$$\n",
    "\\vec{l}_1= (0,u,u), u \\in [0,1].\n",
    "$$\n",
    "\n",
    "A segunda curva correspóndese co segmento de circunferencia no que $u=1$ pero o sentido de circulación correspóndese con unha variación\n",
    "decrecente de $v$, isto é, imos desde $v=\\pi/2 \\rightarrow 0$. Para usar un parámetro que creza nesa curva, podemos tomar $v^\\prime = \\pi/2 - v$.\n",
    "Con esa elección temos que\n",
    "\n",
    "$$\n",
    "\\vec{l}_2= (\\cos v,\\sin v,1)=(\\cos (\\pi/2-v^\\prime), \\sin (\\pi/2-v^\\prime),1)=(\\sin v^\\prime, \\cos v^\\prime,1), v^\\prime \\in [0,\\pi/2].\n",
    "$$\n",
    "\n",
    "Finalmente pasamos desde o punto $(1,0,1)$ ao punto $(0,0,0)$ por un segmento rectilíneo que se pode parametrizar como\n",
    "\n",
    "$$\n",
    "\\vec{l}_3= (1-t,0,1-t), t \\in [0,1],\n",
    "$$\n",
    "\n",
    "e por tanto\n",
    "$$\n",
    "{\\rm d}\\vec{l}_1= (0,1,1) {\\rm d}u,  \\qquad {\\rm d}\\vec{l}_2 = (\\cos v^\\prime,\\sin v^\\prime,0){\\rm d}v^\\prime, \\qquad {\\rm d}\\vec{l}_3= (-1,0,-1){\\rm d}t.\n",
    "$$\n",
    "\n",
    "A integral de liña do campo é\n",
    "$$\n",
    "\\int_{C} \\vec{F} \\cdot {\\rm d}\\vec{r} = \\int_{0}^1 \\vec{F}(0,u,u) \\cdot {\\rm d}\\vec{l}_1 + \\int_{0}^{\\pi/2} \\vec{F}(\\sin v^\\prime,\\cos v^\\prime,1) \\cdot {\\rm d}\\vec{l}_2 +\n",
    "\\int_{0}^1 \\vec{F}(1-t,0,1-t) \\cdot {\\rm d}\\vec{l}_3\n",
    "$$\n",
    "\n",
    "$$\n",
    "= \\int_{0}^1 (u,0,u)\\cdot (0,1,1){\\rm d}u +  \\int_{0}^{\\pi/2}  (1,\\sin v^\\prime,\\cos v^\\prime) \\cdot (\\cos v^\\prime,-\\sin v^\\prime,0){\\rm d}v^\\prime+\\int_{0}^1 (1-t,1-t,0)\\cdot (-1,0,-1){\\rm d}t\n",
    "$$\n",
    "\n",
    "$$\n",
    "= \\int_{0}^1 u {\\rm d}u + \\int_{0}^{\\pi/2} (\\cos v^\\prime-\\sin^2 v^\\prime) {\\rm d}v^\\prime + \\int_{0}^1 (t-1) {\\rm d}t\n",
    "= \\left.\\frac{u^2}{2}\\right]_0^1 + \\left. \\sin v^\\prime -\\frac{1}{2}\\left(v^\\prime-\\sin 2v^\\prime\\right)\\right]_0^{\\pi/2}+\\left.\\frac{(t-1)^2}{2}\\right]_0^1\n",
    "$$\n",
    "\n",
    "$$\n",
    "= \\frac{1}{2}+1-\\frac{\\pi}{4}-\\frac{1}{2}=1-\\frac{\\pi}{4}.\n",
    "$$\n",
    "Polo que queda verificado o teorema de Stokes para este problema.\n"
   ]
  },
  {
   "cell_type": "markdown",
   "id": "75ac5940",
   "metadata": {
    "slideshow": {
     "slide_type": "slide"
    }
   },
   "source": [
    "[//]: https://math.stackexchange.com/questions/2043502/surface-integral-divergence-theorem\n",
    "\n",
    "#### Calcular \n",
    "$$\n",
    "\\int_S \\bar{F}\\cdot d\\bar S\n",
    "$$\n",
    "\n",
    "onde \n",
    "\n",
    "$$\n",
    "\\bar{F}=\\left(2-x^{2}yz+y^{3},xy^{2}z+ye^{z},y^{2}+z-e^{z}\\right)\n",
    "$$\n",
    "e a superficie é $y^{2}+z^{2}=x^{2}$ entre os planos $x=1$ e $x=2$."
   ]
  },
  {
   "cell_type": "markdown",
   "id": "757cbe18",
   "metadata": {
    "slideshow": {
     "slide_type": "fragment"
    }
   },
   "source": [
    "O Teorema da Diverxencia danos:\n",
    "\n",
    "$$\n",
    "\\oint_{\\partial V}\\vec{F}\\cdot\\text{d}\\vec{S} = \\int_{V}\\vec{\\nabla}\\cdot\\vec{F}\\text{d}V\n",
    "$$\n",
    "\n",
    "No noso caso, $S$ non é unha superficie pechada, así que teremos que restar o fluxo a través das superficies formadas nos planos $x=1$ e $x=2$, que chamaremos $S_1$ e $S_2$.\n",
    "\n",
    "$$\n",
    "\\int_S \\vec{F}\\cdot\\text{d}\\vec{S} = \\int_{V}\\vec{\\nabla}\\cdot\\vec{F}\\text{d}V - \\int_{S_1}\\vec{F}\\cdot\\text{d}\\vec{S}_1 - \\int_{S_2} \\vec{F}\\cdot\\text{d}\\vec{S}_2\n",
    "$$\n",
    "\n",
    "\n",
    "Calculamos a diverxencia de $\\vec{F}$:\n",
    "\n",
    "$$\n",
    "\\vec{\\nabla}\\cdot\\vec{F} = \\frac{\\partial}{\\partial x}(2-x^2 yz + y^3) + \\frac{\\partial}{\\partial y}(xy^2z + ye^z) + \\frac{\\partial}{\\partial z}(y^2 + z + e^z) \\\\\n",
    "= -2xyz + 2xyz + e^z + 1 - e^z \\\\\n",
    "= 1\n",
    "$$\n",
    "\n",
    "A integral tripla da función constante 1 simplemente dános o volume da área encerrada pola superficie. Aquí, dado que a nosa superficie non está pechada, primeiro consideramos o caso de que está pechada e logo restamos a integral da superficie a través das dúas superficies que pechan o noso sólido, pero non son parte da superficie que queremos considerar.\n"
   ]
  },
  {
   "cell_type": "markdown",
   "id": "a775f8fb",
   "metadata": {
    "slideshow": {
     "slide_type": "slide"
    }
   },
   "source": [
    "A superficie, $y^2 + z^2 = x^2$ corresponde a un cono arredor do eixo $x$. Podemos calcular o mesmo volume arredor do eixo $z$, en cilíndricas, onde $1<z<2$. En cilíndricas, o cono cumpre $z=r$. En cilíndricas temos $\\mathrm{d}V = r\\mathrm{d}r \\mathrm{d}\\phi \\mathrm{d}z $. Así\n",
    "$$\n",
    "V = \\int_0^{2\\pi} \\left( \\int_1^{2} \\left( \\int_0^{z} r \\mathrm{d}r \\right) \\mathrm{d}z \\right) \\mathrm{d}\\phi \n",
    "$$\n",
    "\n",
    "$$\n",
    "V =2\\pi \\int_1^2 \\frac{r^2}{2} \\Big|^z_0 \\mathrm{d}z = \\frac{\\pi}{3}(8-1) = \\frac{7}{3}\\pi\n",
    "$$\n",
    "\n",
    "Agora, consideramos a integral de superficie en $S_1$ e $S_2$, comezando por $S_1$.\n",
    "\n",
    "En $S_1$, $x = 1$ e o vector normal unitario $\\hat{n}$ é simplemente $-\\hat{x}$. Na superficie, $\\vec{F}$ é dado por\n",
    "\n",
    "$$\n",
    "\\vec{F} = (2 - yz + y^3, y^2 z + e^z,y^2 - z - e^z)\n",
    "$$\n",
    "\n",
    "En cada superficie perpendicular ao eixo $x$, teremos dous círculos. En $x=1$ o círculo terá raio 1, en $x=2$ terá raio 2. \n",
    "Dado que estamos integrando sobre círculos, transformamos a coordenadas polares con $(y,z)\\rightarrow(r\\cos\\varphi, r\\sin\\varphi)$. O noso elemento de superficie é $\\text{d}\\vec{S} = -r\\hat{x}\\text{d}r\\text{d}\\varphi$.\n",
    "\n",
    "Xa que o produto interno cun vector unitario só nos dá esa compoñente dun campo vectorial, temos:\n",
    "\n",
    "$$\n",
    "\\int_{S_1}\\vec{F}\\text{d}\\vec{S} = -\\int_0^1\\text{d}r\\int_0^{2\\pi}\\text{d}\\varphi r(2-r^2\\cos\\varphi\\sin\\varphi + r^3\\cos^3\\varphi)\\\\\n",
    "=-\\int_0^1\\text{d}r\\int_0^{2\\pi}\\text{d}\\varphi r\\left[2-\\frac{r^2}{2}\\sin\\left(\\frac{\\varphi}{2}\\right) + r^3\\cos\\varphi\\right]\\\\\n",
    "=-4\\pi\\int_0^1 r\\text{d}r\\\\\n",
    "=-2\\pi\n",
    "$$"
   ]
  },
  {
   "cell_type": "markdown",
   "id": "05806aeb",
   "metadata": {
    "slideshow": {
     "slide_type": "slide"
    }
   },
   "source": [
    "Na segunda liña, as integrais das funcións trigonométricas evalúanse a 0 porque son periódicas en 2$\\pi$.\n",
    "\n",
    "Do mesmo xeito, tratamos $S_2$. Aquí o vector normal unitario $\\hat{n}$ é $\\hat{x}$, non $-\\hat{x}$, e $x=2$ en todas partes.\n",
    "\n",
    "$$\n",
    "\\vec{F} = (2 - 4yz + y^3, 2y^2 z + e^z,y^2 - z - e^z)\n",
    "$$\n",
    "\n",
    "Unha vez máis, cambiamos a coordenadas polares e só consideramos a compoñente $x$. Agora temos:\n",
    "\n",
    "$$\n",
    "\\int_{S_2}\\vec{F}\\text{d}\\vec{S} =\n",
    "\\int_0^2\\text{d}r\\int_0^{2\\pi}\\text{d}\\varphi r\\left[2-2r^2\\sin\\left(\\frac{\\varphi}{2}\\right) + r^3\\cos\\varphi\\right]\\\\\n",
    "=4\\pi\\int_0^2 r\\text{d}r\\\\\n",
    "=8\\pi\n",
    "$$\n",
    "\n",
    "Xuntando estes resultados, obtemos\n",
    "\n",
    "$$\n",
    "\\int_S \\vec{F}\\cdot\\text{d}\\vec{S} = \\oint_{\\partial V}\\vec{F}\\cdot\\text{d}\\vec{S} - \\int_{S_1}\\vec{F}\\cdot\\text{d}\\vec{S} - \\int_{S_2}\\vec{F}\\cdot\\text{d}\\vec{S}_2\\\\\n",
    "=\\frac{7}{3}\\pi - 8\\pi + 2\\pi\\\\\n",
    "=-\\frac{11}{3}\\pi\n",
    "$$"
   ]
  }
 ],
 "metadata": {
  "celltoolbar": "Slideshow",
  "kernelspec": {
   "display_name": "Python 3",
   "language": "python",
   "name": "python3"
  },
  "language_info": {
   "codemirror_mode": {
    "name": "ipython",
    "version": 3
   },
   "file_extension": ".py",
   "mimetype": "text/x-python",
   "name": "python",
   "nbconvert_exporter": "python",
   "pygments_lexer": "ipython3",
   "version": "3.7.9"
  }
 },
 "nbformat": 4,
 "nbformat_minor": 5
}