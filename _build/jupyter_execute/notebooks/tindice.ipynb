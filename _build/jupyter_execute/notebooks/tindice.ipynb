{
 "cells": [
  {
   "cell_type": "markdown",
   "metadata": {
    "slideshow": {
     "slide_type": "slide"
    }
   },
   "source": [
    "# Métodos III - Indice\n",
    "\n",
    "\n",
    "## Índice do curso\n",
    "\n",
    "\n",
    "X. Cid Vidal; Jose A. Hernando\n",
    "\n",
    "*Departamento de Física de Partículas. Universidade de Santiago de Compostela*\n",
    "\n",
    "Xaneiro 2024\n"
   ]
  },
  {
   "cell_type": "code",
   "execution_count": 1,
   "metadata": {
    "slideshow": {
     "slide_type": "fragment"
    }
   },
   "outputs": [
    {
     "name": "stdout",
     "output_type": "stream",
     "text": [
      " Last version  Fri Mar  8 16:39:03 2024\n"
     ]
    }
   ],
   "source": [
    "import time\n",
    "print(' Last version ', time.asctime() )"
   ]
  },
  {
   "cell_type": "markdown",
   "metadata": {
    "slideshow": {
     "slide_type": "slide"
    }
   },
   "source": [
    "### Tema I - Derivadas en varias dimensións\n",
    "\n",
    "* [Introdución](./tderivadas_introducion.ipynb).\n",
    "    \n",
    "* [Funcións escalares e vectoriais](./tderivadas_funcion_escalar_vectorial.ipynb)\n",
    "\n",
    "* [Límites e Continuidade](./tderivadas_limites_continuidade.ipynb)\n",
    "\n",
    "* [Parametrización de liñas e superficies](tderivadas_parametrizacion_linhas_superficies.ipynb)\n",
    "\n",
    "* [Derivada direccional](./tderivadas_direccional_diferencial.ipynb)\n",
    "\n",
    "* [Gradiente e Xacobiana](./tderivadas_gradiante_xacobiana.ipynb)\n",
    "\n",
    "* [Cambio de coordenadas e Regra da cadea](./tderivadas_coordenadas_cadea.ipynb)\n",
    "    \n",
    "* [Mínimos e Máximos](./tderivadas_min_max.ipynb)"
   ]
  },
  {
   "cell_type": "markdown",
   "metadata": {
    "slideshow": {
     "slide_type": "slide"
    }
   },
   "source": [
    "### Tema II - Integrais en varias dimensións\n",
    "    \n",
    "* [Integrais en 1 dimensión](./tintegral_1d.ipynb)\n",
    "\n",
    "* [Integrais en 2 dimensións](./tintegral_2d.ipynb)\n",
    "\n",
    "* [Integrais en 3 dimensións](./tintegral_3d.ipynb)"
   ]
  },
  {
   "cell_type": "markdown",
   "metadata": {
    "slideshow": {
     "slide_type": "slide"
    }
   },
   "source": [
    "### Tema III - Cálculo Vectorial\n",
    "    \n",
    "* [Integral de liña](./tcalvec_integral_linea.ipynb)\n",
    "\n",
    "* [Teorema de Green](./tcalvec_green.ipynb)\n",
    "\n",
    "* [Campos conservativos, rotacional, diverxencia](./tcalvec_rotdiv_conservativos.ipynb)\n",
    "\n",
    "* [Integral de superficie](./tcalvec_integral_superficie.ipynb)\n",
    "\n",
    "* [Teorema de Stokes. Teorema de Gauss](./tcalvec_stockes_gauss.ipynb)\n",
    "   "
   ]
  },
  {
   "cell_type": "markdown",
   "metadata": {
    "slideshow": {
     "slide_type": "slide"
    }
   },
   "source": [
    "### Tema IV - Series de Fourier\n",
    "    \n",
    "* [Series de Fourier](./tfourier.ipynb)"
   ]
  },
  {
   "cell_type": "markdown",
   "metadata": {
    "slideshow": {
     "slide_type": "slide"
    }
   },
   "source": [
    "### Bibliografía\n",
    "\n",
    "* Marsden, Tromba, \"Cálculo vectorial\" 2004 Pearson, Addison Wesley\n",
    "\n",
    "* Apostol, \"Análisis Matemático\", 1991 Reverte\n",
    "\n",
    "* Apostol, \"Calculus\",1992 Reverte\n",
    "\n",
    "* Demidovich, \"Problemas y ejercicios del análisis matemáticos\" 1993 Paraninfo"
   ]
  },
  {
   "cell_type": "code",
   "execution_count": null,
   "metadata": {},
   "outputs": [],
   "source": []
  }
 ],
 "metadata": {
  "anaconda-cloud": {},
  "celltoolbar": "Slideshow",
  "kernelspec": {
   "display_name": "Python 3",
   "language": "python",
   "name": "python3"
  },
  "language_info": {
   "codemirror_mode": {
    "name": "ipython",
    "version": 3
   },
   "file_extension": ".py",
   "mimetype": "text/x-python",
   "name": "python",
   "nbconvert_exporter": "python",
   "pygments_lexer": "ipython3",
   "version": "3.7.9"
  }
 },
 "nbformat": 4,
 "nbformat_minor": 1
}