{
 "cells": [
  {
   "cell_type": "markdown",
   "id": "24f2e4b3",
   "metadata": {
    "slideshow": {
     "slide_type": "slide"
    },
    "tags": []
   },
   "source": [
    "Sexa $\\rho=\\rho_0 e^{-(\\frac{x}{a})^2-(\\frac{y}{b})^2}$ a ecuación da densidade dun disco, $S$, que responde á ecuación $ (\\frac{x}{a})^2+(\\frac{y}{b})^2=1 $. Determina a masa do disco.\n",
    "\n",
    "A solución pasa por resolver a integral \n",
    "\n",
    "$$\n",
    "M = \\int_S{\\rho_0 e^{-(\\frac{x}{a})^2-(\\frac{y}{b})^2}}\n",
    "$$\n",
    "\n",
    "A integral sobre a elipse \\( S \\) pode transformarse en coordenadas polares con substitucións axustadas para a elipse:\n",
    "\n",
    "$$\n",
    "x = a \\cdot r \\cdot \\cos(\\theta), \\quad y = b \\cdot r \\cdot \\sin(\\theta)\n",
    "$$\n",
    "\n",
    "A Xacobiana da transformación é:\n",
    "\n",
    "$$\n",
    "X = \\begin{pmatrix}\n",
    "\\frac{\\partial x}{\\partial r} & \\frac{\\partial x}{\\partial \\theta} \\\\\n",
    "\\frac{\\partial y}{\\partial r} & \\frac{\\partial y}{\\partial \\theta}\n",
    "\\end{pmatrix} = \n",
    "\\begin{pmatrix}\n",
    "a \\cos(\\theta) & -a r \\sin(\\theta) \\\\\n",
    "b \\sin(\\theta) & b r \\cos(\\theta)\n",
    "\\end{pmatrix}\n",
    "$$\n",
    "\n",
    "\n",
    "e o seu determinante:\n",
    "\n",
    "$$\n",
    "{\\rm det}(X) = abr\n",
    "$$\n",
    "\n",
    "Así, o elemento diferencial de área transformase como:\n",
    "\n",
    "$$\n",
    "dA = abr \\, dr \\, d\\theta\n",
    "$$\n",
    "\n"
   ]
  },
  {
   "cell_type": "markdown",
   "id": "b82e24a3",
   "metadata": {
    "slideshow": {
     "slide_type": "slide"
    }
   },
   "source": [
    "A integral convértese en:\n",
    "\n",
    "$$\n",
    "\\int \\int_S \\rho_0 e^{-\\left(\\frac{ar\\cos(\\theta)}{a}\\right)^2 - \\left(\\frac{br\\sin(\\theta)}{b}\\right)^2} \\cdot abr \\, dr \\, d\\theta\n",
    "$$\n",
    "\n",
    "Simplificando, obtemos:\n",
    "\n",
    "$$\n",
    "\\rho_0 ab \\int_0^{2\\pi} d\\theta \\int_0^1 e^{-r^2} \\cdot r \\, dr\n",
    "$$\n",
    "\n",
    "Necesitamos resolver:\n",
    "\n",
    "$$\n",
    "\\int_0^1 r e^{-r^2} \\, dr\n",
    "$$\n",
    "\n",
    "Usando a substitución $u = r^2 $, $ du = 2r dr $, a integral sobre $r$ convértese en:\n",
    "\n",
    "$$\n",
    "\\frac{1}{2} \\int_0^1 e^{-u} \\, du = \\frac{1}{2} \\left(1 - \\frac{1}{e}\\right)\n",
    "$$\n",
    "\n",
    "Finalmente, incorporando as constantes e integrando sobre $\\theta$, atopamos:\n",
    "\n",
    "$$\n",
    "M = \\rho_0 ab \\pi \\left(1 - \\frac{1}{e}\\right)\n",
    "$$\n"
   ]
  }
 ],
 "metadata": {
  "celltoolbar": "Slideshow",
  "kernelspec": {
   "display_name": "Python 3",
   "language": "python",
   "name": "python3"
  },
  "language_info": {
   "codemirror_mode": {
    "name": "ipython",
    "version": 3
   },
   "file_extension": ".py",
   "mimetype": "text/x-python",
   "name": "python",
   "nbconvert_exporter": "python",
   "pygments_lexer": "ipython3",
   "version": "3.9.6"
  }
 },
 "nbformat": 4,
 "nbformat_minor": 5
}