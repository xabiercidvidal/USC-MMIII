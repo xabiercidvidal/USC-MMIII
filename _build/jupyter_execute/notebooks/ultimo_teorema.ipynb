{
 "cells": [
  {
   "cell_type": "markdown",
   "id": "e03e9ccf",
   "metadata": {
    "slideshow": {
     "slide_type": "slide"
    }
   },
   "source": [
    "### Último teorema"
   ]
  },
  {
   "cell_type": "markdown",
   "id": "d72e59eb",
   "metadata": {
    "slideshow": {
     "slide_type": "slide"
    }
   },
   "source": [
    "<center>\n",
    "<img src=\"https://pbs.twimg.com/media/GHQTQFAXUAAOYJU?format=jpg&name=small\" width=350 align=\"center\" />\n",
    "</center>"
   ]
  },
  {
   "cell_type": "markdown",
   "id": "ec01878b",
   "metadata": {
    "slideshow": {
     "slide_type": "slide"
    }
   },
   "source": [
    "<center>\n",
    "<img src=\"imgs/xabier_meme.jpg\" width=400 align=\"center\" />\n",
    "</center>"
   ]
  }
 ],
 "metadata": {
  "celltoolbar": "Slideshow",
  "kernelspec": {
   "display_name": "Python 3",
   "language": "python",
   "name": "python3"
  },
  "language_info": {
   "codemirror_mode": {
    "name": "ipython",
    "version": 3
   },
   "file_extension": ".py",
   "mimetype": "text/x-python",
   "name": "python",
   "nbconvert_exporter": "python",
   "pygments_lexer": "ipython3",
   "version": "3.7.9"
  }
 },
 "nbformat": 4,
 "nbformat_minor": 5
}