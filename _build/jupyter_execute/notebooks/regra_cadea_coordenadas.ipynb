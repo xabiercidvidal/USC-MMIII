{
 "cells": [
  {
   "cell_type": "markdown",
   "id": "55c0b72d",
   "metadata": {},
   "source": [
    "Sexa unha transformación de coordenadas. Por simplificar a notación, asumamos que é unha transformación de $\\mathbb{R}^2 \\to \\mathbb{R}^2$, función vectorial do tipo:\n",
    "\n",
    "$$\n",
    "\\begin{pmatrix}\n",
    "x = f_x(r,\\theta)\\\\\n",
    "y = f_y(r,\\theta)\n",
    "\\end{pmatrix}\n",
    "$$\n",
    "\n",
    "Tomemos un pequeno desprazamento $\\Delta \\theta$ e $\\Delta r$, arredor dun punto $\\theta_0$ e $r_0$, onde $x_0 = f_x(r_0,\\theta_0)$ e $y_0 = f_y(r_0,\\theta_0)$. Podemos facer a serie de Taylor de primeira orde da nosa función transformación de coordenadas:\n",
    "\n",
    "$$\n",
    "\\begin{pmatrix}\n",
    "x = f_x(r,\\theta)\\\\\n",
    "y = f_y(r,\\theta)\n",
    "\\end{pmatrix} \\sim\n",
    "\\begin{pmatrix}\n",
    "f_x(r_0,\\theta_0)\\\\\n",
    "f_y(r_0,\\theta_0)\n",
    "\\end{pmatrix} +\n",
    "X \\cdot\n",
    "\\begin{pmatrix}\n",
    "\\Delta r\\\\\n",
    "\\Delta \\theta\n",
    "\\end{pmatrix}\n",
    "$$\n",
    "\n",
    "onde a matriz Xacobiana é\n",
    "$$\n",
    "X = \\begin{pmatrix}\n",
    "\\frac{\\partial x}{\\partial r} & \\frac{\\partial x}{\\partial \\theta} \\\\\n",
    "\\frac{\\partial y}{\\partial r} & \\frac{\\partial y}{\\partial \\theta}\n",
    "\\end{pmatrix}\n",
    "$$\n"
   ]
  },
  {
   "cell_type": "markdown",
   "id": "02ad2baf",
   "metadata": {},
   "source": [
    "de onde\n",
    "\n",
    "$$\n",
    "\\begin{pmatrix}\n",
    "x \\\\\n",
    "y \n",
    "\\end{pmatrix} \\sim\n",
    "\\begin{pmatrix}\n",
    "x_0\\\\\n",
    "y_0\n",
    "\\end{pmatrix} +\n",
    "\\begin{pmatrix}\n",
    "\\frac{\\partial x}{\\partial r} \\Delta r + \\frac{\\partial x}{\\partial \\theta} \\Delta \\theta\\\\\n",
    "\\frac{\\partial y}{\\partial r} \\Delta r + \\frac{\\partial y}{\\partial \\theta} \\Delta \\theta\\\\\n",
    "\\end{pmatrix}\n",
    "$$\n",
    "\n",
    "Se agora facemos $\\Delta x = x -  x_0$ e $\\Delta y = y - y_0$, temos:\n",
    "\n",
    "$$\n",
    "\\begin{pmatrix}\n",
    "\\Delta x \\\\\n",
    "\\Delta y \n",
    "\\end{pmatrix} \\sim\n",
    "\\begin{pmatrix}\n",
    "\\frac{\\partial x}{\\partial r} \\Delta r + \\frac{\\partial x}{\\partial \\theta} \\Delta \\theta\\\\\n",
    "\\frac{\\partial y}{\\partial r} \\Delta r + \\frac{\\partial y}{\\partial \\theta} \\Delta \\theta\\\\\n",
    "\\end{pmatrix}\n",
    "$$\n"
   ]
  },
  {
   "cell_type": "markdown",
   "id": "1ca8ee9f",
   "metadata": {},
   "source": [
    "Se agora asumimos que os desprazamentos son infinitesimais, podemos converter o $\\sim$ en igualdade, e recuperamos as expresións coñecidas da regra da cadea:\n",
    "\n",
    "$$\n",
    "\\begin{pmatrix}\n",
    "dx \\\\\n",
    "dy \n",
    "\\end{pmatrix} =\n",
    "\\begin{pmatrix}\n",
    "\\frac{\\partial x}{\\partial r} dr + \\frac{\\partial x}{\\partial \\theta} d\\theta\\\\\n",
    "\\frac{\\partial y}{\\partial r} dr + \\frac{\\partial y}{\\partial \\theta} d\\theta\\\\\n",
    "\\end{pmatrix}\n",
    "$$\n",
    "\n",
    "Nótese que a dedución é igualmente válida para transformacións dun número de dimensións superior."
   ]
  }
 ],
 "metadata": {
  "kernelspec": {
   "display_name": "Python 3",
   "language": "python",
   "name": "python3"
  },
  "language_info": {
   "codemirror_mode": {
    "name": "ipython",
    "version": 3
   },
   "file_extension": ".py",
   "mimetype": "text/x-python",
   "name": "python",
   "nbconvert_exporter": "python",
   "pygments_lexer": "ipython3",
   "version": "3.7.16"
  }
 },
 "nbformat": 4,
 "nbformat_minor": 5
}