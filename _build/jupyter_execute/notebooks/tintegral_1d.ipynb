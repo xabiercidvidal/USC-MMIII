{
 "cells": [
  {
   "cell_type": "markdown",
   "metadata": {
    "editable": true,
    "slideshow": {
     "slide_type": "slide"
    },
    "tags": []
   },
   "source": [
    "\n",
    "# Integrais nunha dimensión\n"
   ]
  },
  {
   "cell_type": "code",
   "execution_count": 1,
   "metadata": {
    "editable": true,
    "slideshow": {
     "slide_type": "fragment"
    },
    "tags": []
   },
   "outputs": [
    {
     "name": "stdout",
     "output_type": "stream",
     "text": [
      " Última execución   Tue Mar 11 16:47:33 2025\n"
     ]
    }
   ],
   "source": [
    "import time\n",
    "print(' Última execución  ', time.asctime() )"
   ]
  },
  {
   "cell_type": "markdown",
   "metadata": {
    "editable": true,
    "slideshow": {
     "slide_type": "slide"
    },
    "tags": []
   },
   "source": [
    "\n",
    "### Obxectivos\n",
    "\n",
    " - Introducir o concepto de suma de Riemann.\n",
    "\n",
    " - Mostrar algúns exemplos\n",
    "\n",
    " - Lembrar os métodos de integración\n"
   ]
  },
  {
   "cell_type": "code",
   "execution_count": 2,
   "metadata": {
    "editable": true,
    "slideshow": {
     "slide_type": "skip"
    },
    "tags": []
   },
   "outputs": [],
   "source": [
    "# general imports\n",
    "%matplotlib inline\n",
    "%reload_ext autoreload\n",
    "%autoreload 2\n",
    "\n",
    "# numpy and matplotlib\n",
    "import numpy as np\n",
    "import matplotlib\n",
    "import matplotlib.pyplot as plt\n",
    "from mpl_toolkits.mplot3d import Axes3D\n",
    "matplotlib.style.use('ggplot')\n",
    "\n",
    "figsize = 6, 3.8\n",
    "cmap    = 'hot'"
   ]
  },
  {
   "cell_type": "code",
   "execution_count": 3,
   "metadata": {
    "editable": true,
    "slideshow": {
     "slide_type": "skip"
    },
    "tags": []
   },
   "outputs": [],
   "source": [
    "import sys\n",
    "from IPython.display import Javascript\n",
    "\n",
    "## potential fix to display latex in google colab\n",
    "def fix_mathjax():\n",
    "    if \"google.colab\" in sys.modules:\n",
    "        display(Javascript(\"\"\"\n",
    "            MathJax.Hub.Queue([\"setRenderer\", MathJax.Hub, \"CommonHTML\"]);\n",
    "            MathJax.Hub.Queue([\"Rerender\", MathJax.Hub]);\n",
    "        \"\"\"))\n",
    "\n",
    "fix_mathjax()"
   ]
  },
  {
   "cell_type": "markdown",
   "metadata": {
    "editable": true,
    "slideshow": {
     "slide_type": "slide"
    },
    "tags": []
   },
   "source": [
    "\n",
    "## Integrais\n",
    "\n",
    " Na seguinte figura, como calcularías a área baixo a gráfica e o eixe x?\n"
   ]
  },
  {
   "cell_type": "code",
   "execution_count": 4,
   "metadata": {
    "slideshow": {
     "slide_type": "fragment"
    }
   },
   "outputs": [
    {
     "data": {
      "image/png": "[encoded data removed]",
      "text/plain": [
       "<Figure size 640x480 with 1 Axes>"
      ]
     },
     "metadata": {},
     "output_type": "display_data"
    }
   ],
   "source": [
    "fun = lambda x : np.sin(x) \n",
    "a, b, size = 0., np.pi, 100\n",
    "xs  = np.linspace(a, b, size)\n",
    "plt.plot(xs, fun(xs), 'black'); plt.plot(xs, np.zeros(100), 'black');\n",
    "plt.fill_between(xs, fun(xs), alpha = 0.5); plt.xlabel(r'$x$'); plt.ylabel(r'$f(x)$');"
   ]
  },
  {
   "cell_type": "markdown",
   "metadata": {
    "slideshow": {
     "slide_type": "slide"
    }
   },
   "source": [
    "\n",
    "Imos primeiro definir o que é unha partición dun intervalo.\n",
    "\n",
    "####  Partición\n",
    "\n",
    " Unha partición, $P$ é un conxunto finito, ${x_i; \\; i = 0, \\dots, n}$, de puntos consecutivos no intervalo $[a, b]$, tal que $x_0 = a, \\; x_n = b$ e $x_i < x_{i +1} \\; \\forall i$\n",
    "\n",
    " O tamaño ou norma, $| P |$, dunha partición será o tamaño do maior dos seus subintervalos, $\\mathrm{máx}\\{x_{i} - x_{i-1}; \\; i = 1, \\dots, n \\}$\n",
    "\n",
    " Unha partición é máis pequena ou máis fina que outra se a súa norma é menor.\n",
    "\n",
    " Unha partición é regular se $\\Delta x_i = \\delta, \\; i = 1, \\dots, n$.\n"
   ]
  },
  {
   "cell_type": "markdown",
   "metadata": {
    "slideshow": {
     "slide_type": "slide"
    }
   },
   "source": [
    "\n",
    "### Suma de Riemann\n",
    "\n",
    " Sexa $P$ unha partición do intervalo $[a, b]$ e $t_i$ sexa un punto do subintervalo $[x_{i-1}, x_i]$ e $[x_{i-1}, x_i]$ y $\\Delta x_i = x_{i} - x_{i-1}$ con $i = 1, \\dots, n$ e $f(x)$ unha función, $\\mathbb{R} \\to \\mathbb{R}$; Chamamos á suma de Riemann á cantidade:\n",
    "\n",
    "$$\n",
    "\\mathcal{S}(f, P) = \\sum_{i=1}^n f(t_i) \\, \\Delta x_i\n",
    "$$\n"
   ]
  },
  {
   "cell_type": "code",
   "execution_count": 5,
   "metadata": {
    "slideshow": {
     "slide_type": "slide"
    }
   },
   "outputs": [],
   "source": [
    "def riemann_sum(fun, a, b, size = 100, draw = False):\n",
    "    xs   = np.linspace(a, b, size)\n",
    "    dx   = xs[1] - xs[0]  \n",
    "    ts   = [xi + dx * np.random.uniform() for xi in xs[:-1]]\n",
    "    sr   = sum([fun(ti) * dx for ti in ts])\n",
    "    if (draw): \n",
    "        plt.bar(xs[:-1] + 0.5 * dx, fun(ts), dx)\n",
    "        plt.plot(xs, fun(xs), c= 'black')\n",
    "    return sr"
   ]
  },
  {
   "cell_type": "markdown",
   "metadata": {
    "slideshow": {
     "slide_type": "slide"
    }
   },
   "source": [
    "\n",
    "*Explora:* modifica na seguinte cela a función, o intervalo e, especialmente, o número de subintervalos da partición regular.\n"
   ]
  },
  {
   "cell_type": "code",
   "execution_count": 6,
   "metadata": {
    "slideshow": {
     "slide_type": "fragment"
    }
   },
   "outputs": [
    {
     "name": "stdout",
     "output_type": "stream",
     "text": [
      "Riemann Sum 1.99892\n"
     ]
    },
    {
     "data": {
      "image/png": "[encoded data removed]",
      "text/plain": [
       "<Figure size 640x480 with 1 Axes>"
      ]
     },
     "metadata": {},
     "output_type": "display_data"
    }
   ],
   "source": [
    "rsum = riemann_sum(np.sin, 0, np.pi, size = 80, draw = True)\n",
    "print('Riemann Sum {:6.5f}'.format(rsum))"
   ]
  },
  {
   "cell_type": "markdown",
   "metadata": {
    "slideshow": {
     "slide_type": "slide"
    }
   },
   "source": [
    "\n",
    "Na seguinte cela estudamos a evolución da suma de Riemann para particións regulares cada vez máis finas.\n"
   ]
  },
  {
   "cell_type": "code",
   "execution_count": 7,
   "metadata": {
    "slideshow": {
     "slide_type": "fragment"
    }
   },
   "outputs": [
    {
     "data": {
      "image/png": "[encoded data removed]",
      "text/plain": [
       "<Figure size 640x480 with 1 Axes>"
      ]
     },
     "metadata": {},
     "output_type": "display_data"
    }
   ],
   "source": [
    "fun   = lambda x : np.sin(x)\n",
    "a, b  = 0., np.pi\n",
    "sizes = [int(2**i) for i in range(1, 11)]\n",
    "srs   = [riemann_sum(fun, a, b, int(size)) for size in sizes]\n",
    "plt.plot(sizes, srs); plt.xscale('log'); plt.ylabel('Suma de Riemann'); plt.xlabel('subintervalos');"
   ]
  },
  {
   "cell_type": "markdown",
   "metadata": {
    "slideshow": {
     "slide_type": "fragment"
    }
   },
   "source": [
    "\n",
    "Comprobamos que a suma de Riemann para particións cada vez máis finas converxe a un determinado valor $S$.\n"
   ]
  },
  {
   "cell_type": "markdown",
   "metadata": {
    "slideshow": {
     "slide_type": "slide"
    }
   },
   "source": [
    "\n",
    "### Integral de Riemman\n",
    "\n",
    " Dicimos que a función $f(x)$ é integrable de Rienmann se existe un número $S$, ou integral de Riemman, tal que $\\forall \\epsilon >0$, existe unha partición $P_\\epsilon$ do intervalo $[a , b]$, tal que para unha partición máis fina que $P_\\epsilon$, e para cada elección de puntos $t_i$ do subintervalo $[x_{i-1}, \\, x_i]$, temos:\n",
    "\n",
    "$$\n",
    "| \\mathcal{S}(f, P) - S | < \\epsilon\n",
    "$$\n",
    "\n",
    " O número $S$ está representado por:\n",
    "\n",
    "$$\n",
    "S = \\int_a^b f(x) \\; \\mathrm{d}x\n",
    "$$\n"
   ]
  },
  {
   "cell_type": "markdown",
   "metadata": {
    "slideshow": {
     "slide_type": "slide"
    }
   },
   "source": [
    "\n",
    "A suma de Riemann superior defínese:\n",
    "\n",
    "$$\n",
    "\\mathcal{U}(f, \\mathcal{P}) = \\sum_{i=1}^n f(x'_i) \\; \\Delta x_i \n",
    "$$\n",
    "\n",
    "onde agora $x'_i$  o valor do subintervalo $[x_{i-1}, \\,x_{i}]$ onde a función $f(x)$ é *máxima* .\n",
    "\n",
    " E a suma inferior de Riemann:\n",
    "\n",
    "$$\n",
    "\\mathcal{L}(f, \\mathcal{P}) = \\sum_{i=1}^n f(x'_i) \\, \\Delta x_i  \n",
    "$$\n",
    "\n",
    "onde agora $x'_i$ é o valor do intervalo $[x_{i-1}, x_{i}]$ onde a función $f(x)$ é *mínima*."
   ]
  },
  {
   "cell_type": "markdown",
   "metadata": {
    "slideshow": {
     "slide_type": "fragment"
    }
   },
   "source": [
    "Sempre é certo:\n",
    "\n",
    "$$\n",
    "\\mathcal{L}(f, \\mathcal{P}) \\le \\mathcal{S}(f, \\mathcal{P}) \\le \\mathcal{U}(f, \\mathcal{P}) \n",
    "$$\n",
    "\n",
    "\n"
   ]
  },
  {
   "cell_type": "markdown",
   "metadata": {
    "slideshow": {
     "slide_type": "slide"
    }
   },
   "source": [
    "### Primeiro teorema fundamental do cálculo integral\n",
    "\n",
    " Sexa $f(x)$ unha función integrable de Riemann no intervalo $[a,b]$, definimos a función:\n",
    "\n",
    "\n",
    "$$\n",
    "F(x) = \\int_a^x f(x) \\; \\mathrm{d}x\n",
    "$$\n",
    "\n",
    "Se $f(x)$ é continua en $c \\in (a, b)$, $F(x)$ é diferenciable en $c$ con derivada: $F'(c) = f(c)$\n"
   ]
  },
  {
   "cell_type": "markdown",
   "metadata": {
    "slideshow": {
     "slide_type": "slide"
    }
   },
   "source": [
    "\n",
    "*Demostración:*\n",
    "\n",
    " Por definición de derivada:\n",
    "\n",
    "$$\n",
    "F'(c) = \\lim_{h\\to0} \\frac{F(c+h)-F(c)}{h} \n",
    "$$\n",
    "\n",
    " Neste caso, onde $h$ é pequeno.\n",
    "\n",
    "$$\n",
    "F(c+h)-F(c)  = \\int_a^{c+h} f(x) \\; \\mathrm{d}x - \\int_a^{c} f(x) \\; \\mathrm{d}x \n",
    "= \\int_c^{c+h} f(x) \\; \\mathrm{d}x \\simeq f(t) \\, h\n",
    "$$\n",
    "\n",
    " Se consideramos $h$ suficientemente pequeno, damos a integral como suma de Riemann nun intervalo $[c, c+h]$ cun punto aleatorio $t$. Ao establecer $h \\to 0, \\; t \\to c$, e:\n",
    "\n",
    "$$\n",
    "F'(c) = f(c)\n",
    "$$\n"
   ]
  },
  {
   "cell_type": "markdown",
   "metadata": {
    "slideshow": {
     "slide_type": "slide"
    }
   },
   "source": [
    "\n",
    "### Segundo teorema fundamental do cálculo integral\n",
    "\n",
    " Unha función $F(x)$ chámase *primitiva* dunha función $f(x)$ nun intervalo aberto $(a,b)$ se $F'(x) = f(x)$  para todo $x \\in (a,b)$.\n",
    "\n",
    " Dúas primitivas dunha función só poden diferir nunha constante: $P(x) = F(x) + C$\n"
   ]
  },
  {
   "cell_type": "markdown",
   "metadata": {
    "editable": true,
    "slideshow": {
     "slide_type": "slide"
    },
    "tags": []
   },
   "source": [
    "**Teorema:** Sexa $f(x)$ integrable de Riemann en $[a,b]$, sexa $P(x)$ unha función definida en $[a,b]$, tal que exista a derivada $P'(x)$ en $(a,b)$, con valor $P'(x) = f(x)$, temos: \n",
    "\n",
    "$$\n",
    "\\int_a^b f(x) \\, \\mathrm{d}x = \\int_a^b P'(x) \\;\\mathrm{d}x = P(b) - P(a)\n",
    "$$ \n",
    "\n",
    "Ou o que é o mesmo, sexa $P(x)$ calquera primitiva de $f(x)$, temos:\n",
    "\n",
    "$$\n",
    "\\int_a^b f(x) \\, \\mathrm{d}x = P(b)-P(a)\n",
    "$$"
   ]
  },
  {
   "cell_type": "markdown",
   "metadata": {
    "editable": true,
    "slideshow": {
     "slide_type": "slide"
    },
    "tags": []
   },
   "source": [
    "\n",
    "*Demostración:*\n",
    "\n",
    "Sexa \n",
    "\n",
    "$$\n",
    "F(x) = \\int_a^x f(x) \\, \\mathrm{d}x\n",
    "$$\n",
    "\n",
    "Polo teorema anterior $F'(x)=f(x)$, ou $F(x)$ é unha primitiva de $f(x)$.\n",
    "\n",
    "Dúas primitivas difiren por unha constante $C$:\n",
    "\n",
    "$$\n",
    "F(a) = P(a) + C = 0 \n",
    "$$\n",
    "$$\n",
    "F(b) = P(b) + C\n",
    "$$\n",
    "\n",
    "logo: \n",
    "\n",
    "$$\n",
    "C = - P(a) \n",
    "$$\n",
    "$$\n",
    "F(b) = P(b) - P(a)\n",
    "$$\n"
   ]
  },
  {
   "cell_type": "markdown",
   "metadata": {
    "editable": true,
    "slideshow": {
     "slide_type": "slide"
    },
    "tags": []
   },
   "source": [
    "**Corolario**: Sexa $ F(x) = \\int_{a}^{\\phi(x)} f(t) \\, dt $, e sexa $ \\phi(x) $ derivable en $ c $ e $ f$ continua en $ \\phi(c)$.  \n",
    "Entón  \n",
    "\n",
    "$$\n",
    "F'(c) = f(\\phi(c)) \\cdot \\phi'(c)\n",
    "$$\n",
    "\n",
    "*Demostración:* Pola regra da cadea e primeiro teorema fundamental do cálculo.  "
   ]
  }
 ],
 "metadata": {
  "celltoolbar": "Slideshow",
  "kernelspec": {
   "display_name": "Python 3 (ipykernel)",
   "language": "python",
   "name": "python3"
  },
  "language_info": {
   "codemirror_mode": {
    "name": "ipython",
    "version": 3
   },
   "file_extension": ".py",
   "mimetype": "text/x-python",
   "name": "python",
   "nbconvert_exporter": "python",
   "pygments_lexer": "ipython3",
   "version": "3.9.6"
  }
 },
 "nbformat": 4,
 "nbformat_minor": 4
}