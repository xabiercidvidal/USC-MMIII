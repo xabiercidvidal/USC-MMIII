{
 "cells": [
  {
   "cell_type": "markdown",
   "metadata": {
    "slideshow": {
     "slide_type": "slide"
    }
   },
   "source": [
    "\n",
    "# Métodos de integración\n",
    "\n",
    " Das notas da prof. Pilar Hernández Gamazo (U. de València)\n"
   ]
  },
  {
   "cell_type": "code",
   "execution_count": 1,
   "metadata": {
    "slideshow": {
     "slide_type": "skip"
    }
   },
   "outputs": [
    {
     "name": "stdout",
     "output_type": "stream",
     "text": [
      " Última execución   Tue Mar  5 16:10:36 2024\n"
     ]
    }
   ],
   "source": [
    "import time\n",
    "print(' Última execución  ', time.asctime() )"
   ]
  },
  {
   "cell_type": "markdown",
   "metadata": {
    "slideshow": {
     "slide_type": "slide"
    }
   },
   "source": [
    "\n",
    "## Obxectivos\n",
    "\n",
    " Presentar e mostrar con exemplos sinxelos os distintos métodos de integración\n",
    "-  Integrais inmediatas,\n",
    "-  Integración por partes,\n",
    "-  Integración por substitución,\n",
    "-  Integración de fraccións de polinomios,\n",
    "-  Integración de funcións trigonométicas.\n",
    "- Presentar integrais impropias e mostrar algúns exemplos.\n"
   ]
  },
  {
   "cell_type": "code",
   "execution_count": 2,
   "metadata": {
    "slideshow": {
     "slide_type": "skip"
    }
   },
   "outputs": [],
   "source": [
    "# general imports\n",
    "%matplotlib inline\n",
    "%reload_ext autoreload\n",
    "%autoreload 2\n",
    "\n",
    "# numpy and matplotlib\n",
    "import numpy as np\n",
    "import sympy as sp\n",
    "import matplotlib\n",
    "import matplotlib.pyplot as plt\n",
    "from mpl_toolkits.mplot3d import Axes3D\n",
    "matplotlib.style.use('ggplot')\n",
    "\n",
    "figsize = 6, 3.8\n",
    "cmap    = 'hot'"
   ]
  },
  {
   "cell_type": "markdown",
   "metadata": {
    "slideshow": {
     "slide_type": "slide"
    }
   },
   "source": [
    "\n",
    "## Integrais inmediatas\n",
    "\n",
    " Algunhas integrais son inmediatas grazas ao 1o teorema do cálculo integral que nos di que se $f(x)$ é unha función continua.\n",
    "\n",
    "$$\n",
    "F(x) = \\int_a^x f(x) \\, \\mathrm{d}x \\;\\; \\Rightarrow \\;\\; F'(x) = f(x)\n",
    "$$\n"
   ]
  },
  {
   "cell_type": "markdown",
   "metadata": {
    "slideshow": {
     "slide_type": "slide"
    }
   },
   "source": [
    "Integrais inmediatas triviais\n",
    "\n",
    "$$\n",
    "\\int x^n \\, \\mathrm{d}x = \\frac{1}{n+1} x^{n+1}, \\, \\mathrm{si} \\, n \\ne -1,\\\\\n",
    "$$\n",
    "$$\n",
    "\\int e^x \\, \\mathrm{d}x = e^x , \\; \\int \\frac{1}{x} \\, \\mathrm{d}x = \\log x, \\, \\mathrm{si} \\, x \\gt 0 \\\\\n",
    "$$\n",
    "$$\n",
    "\\int \\cos x \\, \\mathrm{d}x = \\sin x, \\; \\int \\sin x \\, \\mathrm{d}x = - \\cos x, \\;\n",
    "\\int \\frac{1}{\\cos^2 x} \\, \\mathrm{d}x = \\tan x\n",
    "$$ \n",
    "\n",
    "Nestas notas $\\log$ é sempre Neperiano!"
   ]
  },
  {
   "cell_type": "markdown",
   "metadata": {
    "slideshow": {
     "slide_type": "slide"
    }
   },
   "source": [
    "Outras integrais inmediatas non tan triviais:\n",
    "\n",
    "$$\n",
    "\\int \\frac{1}{1+x^2} \\, \\mathrm{d}x = \\arctan x, \\; \\int \\frac{1}{\\sqrt{1-x^2}} \\, \\mathrm{d}x = \\arcsin x, \\, \\mathrm{si} \\, -1 \\lt x \\lt 1,\n",
    "$$\n",
    "$$\n",
    "\\int \\frac{1}{\\sqrt{1+x^2}} \\, \\mathrm{d}x = \\mathrm{arcsinh} \\, x, \\,\n",
    "\\int \\frac{1}{\\sqrt{x^2-1}} \\, \\mathrm{d}x = \\mathrm{arccosh} \\, x, \\, \\mathrm{si} \\, |x| \\gt 1, \\\\\n",
    "\\int \\frac{1}{1-x^2} \\, \\mathrm{d}x = \\mathrm{arctanh} \\,  x, \\, \\mathrm{si} -1 \\lt x \\lt 1.\n",
    "$$"
   ]
  },
  {
   "cell_type": "markdown",
   "metadata": {
    "slideshow": {
     "slide_type": "slide"
    }
   },
   "source": [
    "Lembremos:\n",
    "    \n",
    "$$\n",
    "\\sinh = \\frac{e^x-e^{-x}}{2}, \\; \\cosh = \\frac{e^x + e^{-x}}{2}, \\; \\tanh = \\frac{e^{2x}-1}{e^{2x}+1}\n",
    "$$\n",
    "\n",
    "e\n",
    "\n",
    "$$\n",
    "\\mathrm{arcsinh} \\, x = \\log \\left(x + \\sqrt{x^2+1} \\right), \\; \n",
    "\\mathrm{arccosh} \\, x = \\log \\left(x + \\sqrt{x^2-1} \\right), \\; \\mathrm{si} \\; x \\gt 1, \\\\\n",
    "\\mathrm{arctanh} \\, x = \\frac{1}{2}\\log \\frac{1+x}{1-x}, \\, \\mathrm{si} \\; 0 \\le x \\lt 1\\;.\n",
    "$$\n"
   ]
  },
  {
   "cell_type": "markdown",
   "metadata": {
    "slideshow": {
     "slide_type": "slide"
    }
   },
   "source": [
    "## Integración por partes\n",
    "\n",
    " Sexan $f(x), \\, g(x)$ funcións continuas, entón temos:\n",
    "\n",
    "$$\n",
    "\\int f(x) \\, g'(x) \\, \\mathrm{d}x = f(x) \\, g(x) - \\int f'(x) \\, g(x) \\, \\mathrm{d}x\n",
    "$$\n",
    "\n",
    "De:\n",
    "\n",
    "$$\n",
    "f(x) \\, g(x) = \\int \\left[f(x) \\, g(x)\\right]' \\, \\mathrm{d}x = \\int f'(x) \\, g(x) \\, \\mathrm{d}x + \\int f(x) \\, g'(x) \\, \\mathrm{d}x\n",
    "$$"
   ]
  },
  {
   "cell_type": "markdown",
   "metadata": {
    "slideshow": {
     "slide_type": "slide"
    }
   },
   "source": [
    "*Exercicio:* Calcula\n",
    "    \n",
    "$$\n",
    "\\int x \\, e^x \\, \\mathrm{d}x\n",
    "$$\n",
    "\n",
    "*Solución:*\n",
    "\n",
    "tomamos: $f(x) = x, \\; g'(x) = e^x$, así $f'(x) = 1, \\; g(x) = e^x$, entón:\n",
    "\n",
    "$$\n",
    "\\int x \\, e^x \\, \\mathrm{d}x = x \\, e^x - \\int e^x \\mathrm{dx} = x \\, e^x - e^x  = e^x \\, (x - 1).\n",
    "$$\n"
   ]
  },
  {
   "cell_type": "markdown",
   "metadata": {
    "slideshow": {
     "slide_type": "slide"
    }
   },
   "source": [
    "## Integrais por substitución\n",
    "\n",
    "Sexan $f(x), g'(x)$ continuas e $F(x)$ primitiva de $f(x)$, $F'(x) = f(x)$, temos:\n",
    "\n",
    "$$\n",
    "\\int f(g(x)) \\, g'(x) \\, \\mathrm{d}x = F(g(x))\n",
    "$$\n",
    "\n",
    " tendo en conta que pola regra da cadea:\n",
    "\n",
    "$$\n",
    "F(g(x))' = F'(g(x)) \\, f'(x) = f(g(x)) \\, g'(x)\n",
    "$$"
   ]
  },
  {
   "cell_type": "markdown",
   "metadata": {
    "slideshow": {
     "slide_type": "slide"
    }
   },
   "source": [
    "*Exercicio*: Calcula\n",
    "    \n",
    "$$\n",
    "\\int \\frac{1}{x \\log x} \\mathrm{d}x \n",
    "$$\n",
    "    \n",
    "*Solución*:\n",
    "\n",
    "Se tomamos:\n",
    "\n",
    "$$\n",
    "f(x) = \\frac{1}{x}, \\; g'(x) = \\frac{1}{x} \\Rightarrow F(x) = \\log(x), \\, g(x) = \\log(x)\n",
    "$$\n",
    "\n",
    "Polo tanto:\n",
    "\n",
    "$$\n",
    "f(g(x)) \\, g'(x) = \\frac{1}{x\\log x}\n",
    "$$\n",
    "$$\n",
    "\\int \\frac{1}{x \\log x} \\mathrm{d}x = \\log (\\log x)\n",
    "$$\n"
   ]
  },
  {
   "cell_type": "markdown",
   "metadata": {
    "slideshow": {
     "slide_type": "slide"
    }
   },
   "source": [
    "\n",
    "De forma equivalente podemos facer o seguinte cambio de variable:\n",
    "\n",
    " $$\n",
    " u = \\log x \\Rightarrow \\mathrm{d}u = \\frac{1}{x} \\, \\mathrm{d}x\n",
    " $$\n",
    "\n",
    " Polo tanto\n",
    "\n",
    " $$\n",
    " \\int \\frac{1}{x \\log x} \\, \\mathrm{d}x = \\int \\frac{1}{u} \\, \\mathrm{d}u = \\log u = \\log(\\log x)\n",
    " $$\n"
   ]
  },
  {
   "cell_type": "markdown",
   "metadata": {
    "slideshow": {
     "slide_type": "slide"
    }
   },
   "source": [
    "\n",
    "Na seguinte cela verificaremos a integral con *SymPy* .\n",
    "\n",
    " *SymPy* é un módulo *de Python* que nos permite calcular derivadas, integrais, etc con cálculo simbólico.\n"
   ]
  },
  {
   "cell_type": "code",
   "execution_count": 3,
   "metadata": {
    "slideshow": {
     "slide_type": "fragment"
    }
   },
   "outputs": [
    {
     "data": {
      "text/latex": [
       "$\\displaystyle \\log{\\left(\\log{\\left(x \\right)} \\right)}$"
      ],
      "text/plain": [
       "log(log(x))"
      ]
     },
     "execution_count": 3,
     "metadata": {},
     "output_type": "execute_result"
    }
   ],
   "source": [
    "x = sp.symbols(\"x\")\n",
    "sp.integrate(\"1/(x*log(x))\", x)"
   ]
  },
  {
   "cell_type": "markdown",
   "metadata": {
    "slideshow": {
     "slide_type": "slide"
    }
   },
   "source": [
    "\n",
    "## Integración de funcións racionais\n",
    "\n",
    " Estas integrais son:\n",
    "\n",
    " $$\n",
    " \\int \\frac{P_n(x)}{Q_m(x)} \\, \\mathrm{d}x\n",
    " $$\n",
    "\n",
    " onde o grao dos polinomios é completo, $n<m$:\n",
    "\n",
    "$$\n",
    "P_n(x) = x^n + a_{n-1} x^{n-1} + \\dots + a_{0} \\\\\n",
    "Q_m(x) = x^m + b_{m-1} x^{m-1} + \\dots + b_{0}\n",
    "$$\n",
    "\n",
    " O método de integración pode ser longo pero está ben definido.\n",
    "\n",
    " Está formado polos seguintes pasos:\n",
    "1.  calcular as raíces do polinomio denominador,\n",
    "1.  descompoñer a razón nunha suma de razóns máis sinxelas,\n",
    "1.  integrar cada razón simple en integrais que estean tabuladas.\n",
    "\n",
    " *Pregunta:* no caso de que a razón entre os polinomios sexa $n \\ge m$, como farías a integral?\n"
   ]
  },
  {
   "cell_type": "markdown",
   "metadata": {
    "slideshow": {
     "slide_type": "slide"
    }
   },
   "source": [
    "\n",
    "### Descomposición polinómica\n",
    "\n",
    " O polinomio denominador pódese descompoñer no produto de polinomios:\n",
    "\n",
    " $$\n",
    " Q_m(x) = (x-\\alpha_1)^{n_1} \\dots (x-\\alpha_p)^{n_p} \\; (x^2+\\beta_1x+\\gamma_1)^{m_1} \\dots (x^2+\\beta_q+\\gamma_q)^{m_q}\n",
    " $$\n",
    "\n",
    " onde $\\alpha_i$ son as $p$ raíces reais, $i=1, \\dots, p$, cada unha delas con multiplicidade $n_i$.\n",
    "\n",
    " e os $\\beta_i, \\gamma_i$ son os valores reais que corresponden ás $q$ raíces imaxinarias, $i=1, \\dots, q$, que satisfacen, $\\beta^2_i - 4 \\gamma_i \\lt 0$ , e que cada unha aparece con multiplicidade $m_i$.\n"
   ]
  },
  {
   "cell_type": "markdown",
   "metadata": {
    "slideshow": {
     "slide_type": "slide"
    }
   },
   "source": [
    "\n",
    "*Exemplo:* Descompoñer o polinomio: $Q_3(x) = x^3 + 2x^2 +2x +1$\n",
    "\n",
    " Podemos comprobar que unha raíz é $\\alpha = -1, \\; Q(-1) = -1 + 2 -2 + 1 = 0.$\n",
    "\n",
    " Entón o polinomio é:\n",
    "\n",
    " $$\n",
    " Q_3(x) = (x +1) \\, (A x^2 + B x + C) = A x^3 + (A+B) x^2 + (B+C) x + C\n",
    " $$\n",
    "\n",
    " Polo tanto:\n",
    "\n",
    " $$\n",
    " A = 1, \\; A+B = 2, \\; B+C = 2, \\; C = 1\n",
    " $$\n",
    "\n",
    " que ten a solución: $A=B=C=1$.\n",
    "\n",
    " O polinomio $x^2 + x + 1$ non ten unha raíz real, só imaxinaria, con $\\beta = 1, \\gamma = 1$, que satisfacen $\\beta^2 - 4 \\gamma = -3 < 0 $.\n",
    "\n",
    " A descomposición do polinomio é:\n",
    "\n",
    " $$\n",
    " Q_3(x) = (x+1) \\, (x^2+x+1)\n",
    " $$\n"
   ]
  },
  {
   "cell_type": "markdown",
   "metadata": {
    "slideshow": {
     "slide_type": "slide"
    }
   },
   "source": [
    "### Suma de razóns máis sinxelas\n",
    "\n",
    " Dada a descomposición de $Q_m(x)$, a razón de polinomios pódese expresar como a suma de fraccións máis sinxelas de polinomios::\n",
    "\n",
    "$$\n",
    "\\frac{P_n(x)}{Q_m(x)} = \\sum_{i=1}^p \\frac{A^i_1}{(x-\\alpha_i)} + \\frac{A^i_2}{(x-\\alpha_i)^2} + \\dots + \\frac{A^i_{n_i}}{(x-\\alpha_i)^{n_i}}  \\\\\n",
    "+ \\sum_{j = 1}^{q} \\frac{B^j_1 x + C^j_1}{(x^2 + \\beta_j x + \\gamma_j)} + \\frac{B^j_2 x + C^j_2}{(x^2 + \\beta_j x + \\gamma_j)^2} + \\dots + \\frac{B^j_{m_j} x + C^j_{m_j}}{(x^2 + \\beta_j x + \\gamma_j)^{m_j}}\n",
    "$$"
   ]
  },
  {
   "cell_type": "markdown",
   "metadata": {
    "slideshow": {
     "slide_type": "slide"
    }
   },
   "source": [
    "\n",
    "*Exemplo:* Expresa a seguinte razón como a suma de fraccións simples:\n",
    "\n",
    " $$\n",
    " \\frac{P_2(x)}{Q_3(x)} = \\frac{3x^2+3x+1}{x^3+2x^2+2x+1}\n",
    " $$\n",
    "\n",
    " Sabemos que o denominador pode descompoñerse en:\n",
    "\n",
    " $$\n",
    " Q_3(x) = (x+1) \\, (x^2+x+1)\n",
    " $$\n",
    "\n",
    " onde hai unha raíz real $\\alpha_1 = -1$ con multiplicidade $n_1=1$, e unha complexa con $\\beta_1 = 1, \\gamma = 1$ con multiplicidade $m_1 = 1$\n",
    "\n",
    " A razón de polinomios admite a seguinte suma:\n",
    "\n",
    " $$\n",
    " \\frac{3x^2+3x+1}{x^3+2x^2+2x+1} = \\frac{A}{x+1} + \\frac{Bx + C}{x^2+x+ 1 }\n",
    " $$\n"
   ]
  },
  {
   "cell_type": "markdown",
   "metadata": {
    "slideshow": {
     "slide_type": "slide"
    }
   },
   "source": [
    "\n",
    "Para determinar os coeficientes $A, B$ e $C$ igualamos os numeradores:\n",
    "\n",
    " $$\n",
    " 3x^2+3x+1 = A \\, (x^2+x+1) + (B x +C) \\, (x+1) \\ = (A+B) x^2 + (A+B+ C) ) x+ (A+C)\n",
    " $$\n",
    "\n",
    " O que implica o seguinte conxunto de igualdades:\n",
    "\n",
    " $$\n",
    " A+B = 3, \\, A+B+C = 3, A+C = 1\n",
    " $$\n",
    "\n",
    " con solución: $A = 1, B= 2, C = 0.$\n",
    "\n",
    " Polo tanto:\n",
    " \n",
    " $$\n",
    " \\frac{3x^2+3x+1}{x^3+2x^2+2x+1} = \\frac{1}{x+1} + \\frac{2x}{x^2+x+1}\n",
    " $$\n"
   ]
  },
  {
   "cell_type": "markdown",
   "metadata": {
    "slideshow": {
     "slide_type": "slide"
    }
   },
   "source": [
    "\n",
    "### Integrais das razóns máis sinxelas\n",
    "\n",
    " A integral dunha razón de polinomios, despois de descompoñela na suma de razóns máis sinxelas, implica as seguintes integrais posibles:\n",
    "\n",
    " Para raíces reais con $n=1$\n",
    "\n",
    " $$\n",
    " \\int \\frac{A}{(x-\\alpha)} \\, \\mathrm{d}x = A \\, \\log(x-\\alpha)\n",
    " $$\n",
    "\n",
    " e para $n>1$:\n",
    "\n",
    " $$\n",
    " \\int \\frac{A}{(x-\\alpha)^n} \\, \\mathrm{d}x = - \\frac{1}{n-1} \\frac{A}{(x-\\alpha)^ {n-1}}\n",
    " $$\n"
   ]
  },
  {
   "cell_type": "markdown",
   "metadata": {
    "slideshow": {
     "slide_type": "slide"
    }
   },
   "source": [
    "\n",
    "Para raíces complexas, para o caso $m = 1$\n",
    "\n",
    " $$\n",
    " \\int \\frac{B x + C}{(x^2 + \\beta x + \\gamma)} \\, \\mathrm{d} x= \\frac{B}{2} \\log (x^2+\\beta+ \\gamma)\n",
    "-  \\frac{C - \\beta B /2}{\\sqrt{a}} \\arctan \\frac{x + \\beta/2}{\\sqrt{a}}\n",
    " $$\n",
    "\n",
    " onde $a = \\gamma - \\beta^2/4$\n",
    "\n",
    " e para o caso $m >1$:\n",
    "\n",
    " $$\n",
    " \\int \\frac{B x + C}{(x^2 + \\beta x + \\alpha)^m} \\, \\mathrm{d} x =\n",
    "-  \\frac{B}{2(m - 1)} \\frac{1}{(x^2+\\beta x+ \\alpha)^{m-1}} \\\n",
    "-  \\frac{C - \\beta B /2}{a^m} \\sqrt{a} \\int \\frac{1}{(u^2+1)^m} \\, \\mathrm{d}u\n",
    " $$\n",
    "\n",
    " con $u = \\frac{x + \\beta/2}{\\sqrt{a}}$\n",
    "\n",
    " E a última integral obedece a unha regra recorrente:\n",
    "\n",
    " $$\n",
    " \\int \\frac{1}{(u^2+1)^m} \\, \\mathrm{d}x = \\frac{2m-3}{2m-2} \\int \\frac{1}{(u^ 2+1)^{m-1}} \\, \\mathrm{d}u + \\frac{1}{2m-2} \\frac{u}{(u^2+1)^{m-1}}\n",
    " $$\n"
   ]
  },
  {
   "cell_type": "markdown",
   "metadata": {
    "slideshow": {
     "slide_type": "slide"
    }
   },
   "source": [
    "\n",
    "*Exemplo:* Calcula a integral:\n",
    "\n",
    " $$\n",
    " \\int \\frac{3x^2+3x+1}{x^3+2x^2+2x+1} \\, \\mathrm{d}x\n",
    " $$\n",
    "\n",
    " *Solución* A integral será a suma das integrais das razóns de polinomios que obtivemos antes.\n",
    "\n",
    " $$\n",
    " \\int \\frac{1}{x+1} \\, \\mathrm{d}x + \\int \\frac{2x}{x^2+x+1} \\, \\mathrm{d}x\n",
    " $$\n",
    "\n",
    " Segundo as regras que vimos anteriormente, estas integrais son válidas:\n",
    "\n",
    " $$\n",
    " \\int \\frac{1}{x+1} \\, \\mathrm{d}x = \\log (x+1)\n",
    " $$\n",
    "\n",
    "e\n",
    "\n",
    " $$\n",
    " \\int \\frac{2x}{x^2+x+1} \\, \\mathrm{d}x = \\int \\frac{2x+1}{x^2+x+1} \\mathrm{d} x - \\int \\frac{1}{x^2+x+1} \\, \\mathrm{d}x\\\n",
    " = \\log(x^2+2x+1) - \\frac{2}{\\sqrt{3}} \\arctan \\frac{2x+1}{\\sqrt{3}}\n",
    " $$\n",
    "\n",
    " Entón:\n",
    "\n",
    " $$\n",
    " \\int \\frac{3x^2+3x+1}{x^3+2x^2+2x+1} \\, \\mathrm{d}x =\n",
    " \\log (x+1) + \\log(x^2+2x+1) - \\frac{2}{\\sqrt{3}} \\arctan \\frac{2x+1}{\\sqrt{3}}\n",
    " $$\n"
   ]
  },
  {
   "cell_type": "markdown",
   "metadata": {
    "slideshow": {
     "slide_type": "slide"
    }
   },
   "source": [
    "\n",
    "Nas seguintes celas verificaremos as integrais con *SymPy*\n"
   ]
  },
  {
   "cell_type": "code",
   "execution_count": 4,
   "metadata": {
    "slideshow": {
     "slide_type": "fragment"
    }
   },
   "outputs": [
    {
     "data": {
      "text/latex": [
       "$\\displaystyle \\log{\\left(x + 1 \\right)}$"
      ],
      "text/plain": [
       "log(x + 1)"
      ]
     },
     "execution_count": 4,
     "metadata": {},
     "output_type": "execute_result"
    }
   ],
   "source": [
    "x       = sp.symbols('x')\n",
    "sp.integrate(\"1/(x+1)\", x)"
   ]
  },
  {
   "cell_type": "code",
   "execution_count": 5,
   "metadata": {
    "slideshow": {
     "slide_type": "fragment"
    }
   },
   "outputs": [
    {
     "data": {
      "text/latex": [
       "$\\displaystyle \\log{\\left(x^{2} + x + 1 \\right)} - \\frac{2 \\sqrt{3} \\operatorname{atan}{\\left(\\frac{2 \\sqrt{3} x}{3} + \\frac{\\sqrt{3}}{3} \\right)}}{3}$"
      ],
      "text/plain": [
       "log(x**2 + x + 1) - 2*sqrt(3)*atan(2*sqrt(3)*x/3 + sqrt(3)/3)/3"
      ]
     },
     "execution_count": 5,
     "metadata": {},
     "output_type": "execute_result"
    }
   ],
   "source": [
    "sp.integrate(\"2*x/(x**2+x+1)\", x)"
   ]
  },
  {
   "cell_type": "markdown",
   "metadata": {
    "slideshow": {
     "slide_type": "slide"
    }
   },
   "source": [
    "\n",
    "## Integrais trigonométricas\n",
    "\n",
    "###  Integrais con produtos de $\\sin x$ e $\\cos x$\n",
    "\n",
    " Integrais da forma:\n",
    "\n",
    " $$\n",
    " \\int \\sin^nx \\cos^mx \\, \\mathrm{d}x\n",
    " $$\n",
    "\n",
    " Admítense os casos:\n",
    "-  $n$ e $m$ son pares, $n= 2p, \\, m = 2q$. Nese caso usamos recursivamente o cambio:\n",
    "\n",
    " $$\n",
    " \\cos^2 x = \\frac{1+\\cos 2x}{2}, \\; \\sin^2 x = \\frac{1-\\cos 2x}{2}\n",
    " $$\n",
    " \n",
    "-  Se $n$ é impar, $n = 2p+1$, facemos o cambio $u = \\cos x, \\; \\mathrm{d}u = - \\sin x \\, \\mathrm{d}x$:\n",
    "\n",
    " $$\n",
    " \\int \\sin^nx \\cos^mx \\, \\mathrm{d}x = \\int \\sin x \\sin^{2p}x \\cos^mx \\, \\mathrm{d}x\n",
    " = \\int - (1-u^2)^pu^m \\, \\mathrm{d}u\n",
    " $$\n",
    " \n",
    "-  Se $m$ é impar, $m = 2q+1$, facemos o cambio $u = \\sin x, \\, \\mathrm{d}u = \\cos x \\, \\mathrm{dx}$:\n",
    "\n",
    " $$\n",
    " \\int \\sin^nx \\cos^mx \\, \\mathrm{d}x = \\int \\cos x \\cos^{2q}x \\sin^nx \\, \\mathrm{d}x\n",
    " = \\int (1-u^2)^qu^n \\, \\mathrm{d}u\n",
    " $$\n"
   ]
  },
  {
   "cell_type": "markdown",
   "metadata": {
    "slideshow": {
     "slide_type": "slide"
    }
   },
   "source": [
    "\n",
    "### Integrais con produtos de $\\sin ax$ e $\\cos bx$\n",
    "\n",
    " Aplicaremos as relacións trigonométricas:\n",
    "\n",
    " $$\n",
    " \\cos ax \\, \\cos bx = \\frac{\\cos [(a-b) \\, x] + \\cos [(a+b) \\, x]}{2} \\\\\n",
    " \\sin ax \\, \\sin bx = \\frac{\\cos [(a-b) \\, x] - \\cos [(a+b) \\, x]}{2} \\\\\n",
    " \\sin ax \\, \\cos bx = \\frac{\\sin [(a-b) \\, x] + \\sin [(a+b) \\, x]}{2}\n",
    " $$\n"
   ]
  },
  {
   "cell_type": "markdown",
   "metadata": {
    "slideshow": {
     "slide_type": "slide"
    }
   },
   "source": [
    "\n",
    "### Integrais racionais con $\\cos x$ ou $\\sin x$\n",
    "\n",
    " Pódense transformar en razóns de polinomios co cambio:\n",
    "\n",
    " $$\n",
    " u = \\tan \\frac{x}{2}, \\; \\mathrm{d}x = \\frac{2}{1+u^2} \\, \\mathrm{d}u\n",
    " $$\n",
    "\n",
    " Entón:\n",
    "\n",
    " $$\n",
    " \\sin x = \\frac{2u}{1+u^2}, \\; \\cos x = \\frac{1-u^2}{1+u^2}\n",
    " $$\n"
   ]
  },
  {
   "cell_type": "markdown",
   "metadata": {
    "slideshow": {
     "slide_type": "slide"
    }
   },
   "source": [
    "\n",
    "*Exemplo:* Calcula a integral\n",
    "\n",
    " $$\n",
    " \\int \\tan(x) \\, \\mathrm{d}x\n",
    " $$\n",
    "\n",
    " co cambio $u = \\cos x, \\; \\mathrm{d}u = - \\sin x \\, \\mathrm{d}x$\n",
    "\n",
    " $$\n",
    " \\int \\frac{\\sin x}{\\cos x} \\, \\mathrm{d}x = \\int -\\frac{1}{u} \\, \\mathrm{d}u = - \\log u = \\log \\frac{1}{u} = \\log \\frac{1}{\\cos x}\n",
    " $$\n"
   ]
  },
  {
   "cell_type": "markdown",
   "metadata": {
    "slideshow": {
     "slide_type": "slide"
    }
   },
   "source": [
    "\n",
    "Na seguinte cela verificamos a integral con *SymPy*\n"
   ]
  },
  {
   "cell_type": "code",
   "execution_count": 6,
   "metadata": {
    "slideshow": {
     "slide_type": "fragment"
    }
   },
   "outputs": [
    {
     "data": {
      "text/latex": [
       "$\\displaystyle - \\log{\\left(\\cos{\\left(x \\right)} \\right)}$"
      ],
      "text/plain": [
       "-log(cos(x))"
      ]
     },
     "execution_count": 6,
     "metadata": {},
     "output_type": "execute_result"
    }
   ],
   "source": [
    "sp.integrate(\"tan(x)\", x)"
   ]
  },
  {
   "cell_type": "markdown",
   "metadata": {
    "slideshow": {
     "slide_type": "slide"
    }
   },
   "source": [
    "\n",
    "## Integrais impropias\n",
    "\n",
    " Chamamos integrais impropias a aquelas nas que:\n",
    "-  un ou ambos límites de integración son $\\pm \\infty$,\n",
    "-  A función que se vai integrar non está limitada por ningún dos valores do intervalo de integración.\n"
   ]
  },
  {
   "cell_type": "markdown",
   "metadata": {
    "slideshow": {
     "slide_type": "slide"
    }
   },
   "source": [
    "\n",
    "### Límites de integración no infinito\n",
    "\n",
    " No caso de que un dos límites sexa $\\pm \\infty$, calculamos as integrais como límite:\n",
    "\n",
    "$$\n",
    "\\int_a^\\infty f(x) \\, \\mathrm{d}x = \\lim_{b \\to \\infty} \\int_a^b f(x) \\, \\mathrm{d}x \\\\\n",
    "\\int_{-\\infty}^b f(x) \\, \\mathrm{d}x = \\lim_{a \\to -\\infty} \\int_a^b f(x) \\, \\mathrm{d}x \\\\\n",
    "$$\n",
    "\n",
    " Se o límite existe dicimos que a integral converxe, se non diverxe.\n"
   ]
  },
  {
   "cell_type": "markdown",
   "metadata": {
    "slideshow": {
     "slide_type": "slide"
    }
   },
   "source": [
    "\n",
    "*Exemplo:* Calcula a integral impropia\n",
    "\n",
    " $$\n",
    " \\int_1^\\infty \\frac{1}{x^2} \\, \\mathrm{d}x\n",
    " $$\n",
    "\n",
    " Calculamos:\n",
    "\n",
    "$$\n",
    "\\lim_{b \\to \\infty} \\int_1^b \\frac{1}{x^2} \\, \\mathrm{d}x = \\lim_{b \\to \\infty} \\left. -\\frac{1}{x} \\right|_1^b = - \\lim_{b\\to \\infty} \\frac{1}{b} + 1 = 1\n",
    "$$\n",
    "\n",
    " A integral converxe\n"
   ]
  },
  {
   "cell_type": "markdown",
   "metadata": {
    "slideshow": {
     "slide_type": "slide"
    }
   },
   "source": [
    "\n",
    "Na seguinte cela mostramos a integral\n"
   ]
  },
  {
   "cell_type": "code",
   "execution_count": 7,
   "metadata": {
    "slideshow": {
     "slide_type": "fragment"
    }
   },
   "outputs": [
    {
     "data": {
      "image/png": "[encoded data removed]",
      "text/plain": [
       "<Figure size 432x288 with 1 Axes>"
      ]
     },
     "metadata": {},
     "output_type": "display_data"
    }
   ],
   "source": [
    "fun = lambda x : 1/x**2\n",
    "a, b, size = 1, 1e2, 100\n",
    "xs  = np.linspace(a, b, size)\n",
    "plt.plot(xs, fun(xs), 'black'); # plt.plot(xs, np.zeros(100), 'black');\n",
    "plt.fill_between(xs, fun(xs), alpha = 0.5); \n",
    "plt.xlabel(r\"$x$\"); plt.ylabel(r\"$f(x)$\"); plt.title(r\"$f(x) = \\frac{1}{x^2}$\");"
   ]
  },
  {
   "cell_type": "markdown",
   "metadata": {
    "slideshow": {
     "slide_type": "slide"
    }
   },
   "source": [
    "\n",
    "*Exemplo:* Calcula a integral impropia:\n",
    "\n",
    " $$\n",
    " \\int_1^\\infty \\frac{1}{x} \\, \\mathrm{d}x\n",
    " $$\n",
    "\n",
    " Calculamos:\n",
    "\n",
    "$$\n",
    "\\lim_{b \\to \\infty} \\int_1^b \\frac{1}{x} \\, \\mathrm{d}x = \\lim_{b \\to \\infty} \\left. -\\log x \\right|_1^b =  \\lim_{b\\to \\infty} \\log b - 0 = \\infty\n",
    "$$\n",
    "\n",
    " Neste caso, a integral diverxe\n"
   ]
  },
  {
   "cell_type": "markdown",
   "metadata": {
    "slideshow": {
     "slide_type": "slide"
    }
   },
   "source": [
    "\n",
    "Na seguinte cela mostramos a integral\n"
   ]
  },
  {
   "cell_type": "code",
   "execution_count": 8,
   "metadata": {
    "slideshow": {
     "slide_type": "fragment"
    }
   },
   "outputs": [
    {
     "data": {
      "image/png": "[encoded data removed]",
      "text/plain": [
       "<Figure size 432x288 with 1 Axes>"
      ]
     },
     "metadata": {},
     "output_type": "display_data"
    }
   ],
   "source": [
    "fun = lambda x : 1/x\n",
    "a, b, size = 1, 1e2, 100\n",
    "xs  = np.linspace(a, b, size)\n",
    "plt.plot(xs, fun(xs), 'black'); # plt.plot(xs, np.zeros(100), 'black');\n",
    "plt.fill_between(xs, fun(xs), alpha = 0.5); \n",
    "plt.xlabel(r\"$x$\"); plt.ylabel(r\"$f(x)$\"); plt.title(r\"$f(x) = \\frac{1}{x}$\");"
   ]
  },
  {
   "cell_type": "markdown",
   "metadata": {
    "slideshow": {
     "slide_type": "slide"
    }
   },
   "source": [
    "\n",
    "### Funcións non acoutadas\n",
    "\n",
    " Se a función non está acoutada ao final do intervalo, recorremos de novo ao cálculo dos límites.\n",
    "\n",
    " Por exemplo, se a función non está limitada a $b$, o extremo superior do intervalo, entón:\n",
    "\n",
    "$$\n",
    "\\int_a^b f(x)\\, \\mathrm{d}x \\equiv \\lim_{y \\to b}\\int_a^y f(x) \\, \\mathrm{d}x\n",
    "$$\n",
    "\n",
    " e do mesmo xeito para o caso no que a función non estaba limitada en $a$.\n",
    "\n",
    " Se a función non está limitada nun punto $c$ dentro do intervalo $[a, b]$:\n",
    "\n",
    "$$\n",
    "\\int_a^b f(x) \\, \\mathrm{d}x \\equiv \\lim_{y \\to c^-} \\int_a^y f(x) \\, \\mathrm{d}x + \\lim_{y \\to c^+} \\int_y^b f(x) \\, \\mathrm{d}x\n",
    "$$"
   ]
  },
  {
   "cell_type": "markdown",
   "metadata": {
    "slideshow": {
     "slide_type": "slide"
    }
   },
   "source": [
    "\n",
    "*Exemplo:* Calcula a integral impropia\n",
    "\n",
    " $$\n",
    " \\int_0^1 \\frac{1}{\\sqrt{1-x}} \\, \\mathrm{d}x\n",
    " $$\n",
    "\n",
    " A función non está limitada en $b = 1$, polo tanto calculamos:\n",
    "\n",
    "$$\n",
    "\\lim_{y \\to 1} \\int_0^y \\frac{1}{\\sqrt{1-x}} \\, \\mathrm{d}x = \\lim_{y \\to 1} \\left. - 2 \\sqrt{1-x} \\right|_0^y = \\lim_{y \\to 1} - 2 \\sqrt{1-y} + 2 = 2\n",
    "$$\n",
    "\n",
    " A integral converxe.\n"
   ]
  },
  {
   "cell_type": "markdown",
   "metadata": {
    "slideshow": {
     "slide_type": "slide"
    }
   },
   "source": [
    "\n",
    "Verifímolo na seguinte cela:\n"
   ]
  },
  {
   "cell_type": "code",
   "execution_count": 9,
   "metadata": {
    "slideshow": {
     "slide_type": "fragment"
    }
   },
   "outputs": [
    {
     "data": {
      "text/latex": [
       "$\\displaystyle 2$"
      ],
      "text/plain": [
       "2"
      ]
     },
     "execution_count": 9,
     "metadata": {},
     "output_type": "execute_result"
    }
   ],
   "source": [
    "sp.integrate(\"1/sqrt(1-x)\", (x, 0, 1))"
   ]
  },
  {
   "cell_type": "markdown",
   "metadata": {
    "slideshow": {
     "slide_type": "slide"
    }
   },
   "source": [
    "\n",
    "Na seguinte cela mostramos a integral:\n"
   ]
  },
  {
   "cell_type": "code",
   "execution_count": 10,
   "metadata": {
    "slideshow": {
     "slide_type": "fragment"
    }
   },
   "outputs": [
    {
     "data": {
      "image/png": "[encoded data removed]",
      "text/plain": [
       "<Figure size 432x288 with 1 Axes>"
      ]
     },
     "metadata": {},
     "output_type": "display_data"
    }
   ],
   "source": [
    "fun = lambda x : 1/np.sqrt(1-x) \n",
    "a, b, size = 0., 0.999, 100\n",
    "xs  = np.linspace(a, b, size)\n",
    "plt.plot(xs, fun(xs), 'black'); # plt.plot(xs, np.zeros(100), 'black');\n",
    "plt.fill_between(xs, fun(xs), alpha = 0.5); \n",
    "plt.xlabel(r\"$x$\"); plt.ylabel(r\"$f(x)$\"); plt.title(r\"$f(x) = \\frac{1}{\\sqrt{1-x}}$\")\n",
    "plt.ylim(0, 10);"
   ]
  },
  {
   "cell_type": "markdown",
   "metadata": {
    "slideshow": {
     "slide_type": "slide"
    }
   },
   "source": [
    "\n",
    "*Exemplo* : Calcula a integral impropia\n",
    "\n",
    " $$\n",
    " \\int_0^2 \\frac{1}{(1-x)^2} \\, \\mathrm{d}x\n",
    " $$\n",
    "\n",
    " A función non está acoutada no punto interior $x = 1$.\n",
    "\n",
    " Calculamos a integral:\n",
    "\n",
    "$$\n",
    "\\lim_{y \\to 1^-} \\int_0^y \\frac{1}{(1-x)^2} \\, \\mathrm{d}x + \\lim_{y \\to 1^+} \\int_y^2 \\frac{1}{(1-x)^2} \\, \\mathrm{d}x \\\\\n",
    "= \\lim_{y \\to 1^-} \\left.  \\frac{1}{(1-x)} \\right|_0^y + \\lim_{y \\to 1^+} \\left.  \\frac{1}{(1-x)} \\right|_y^2 \\\\\n",
    "$$\n",
    "$$\n",
    "\\lim_{y \\to 1^-}   \\frac{1}{(1-y)} - \\lim_{y \\to 1^+} \\frac{1}{(1-y)} -2\n",
    "$$\n",
    "\n",
    " Ningún límite existe e a integral diverxe\n"
   ]
  },
  {
   "cell_type": "markdown",
   "metadata": {
    "slideshow": {
     "slide_type": "slide"
    }
   },
   "source": [
    "\n",
    "Comprobamos con *SymPy* :\n"
   ]
  },
  {
   "cell_type": "code",
   "execution_count": 11,
   "metadata": {
    "slideshow": {
     "slide_type": "fragment"
    }
   },
   "outputs": [
    {
     "data": {
      "text/latex": [
       "$\\displaystyle \\infty$"
      ],
      "text/plain": [
       "oo"
      ]
     },
     "execution_count": 11,
     "metadata": {},
     "output_type": "execute_result"
    }
   ],
   "source": [
    "sp.integrate(\"1/(1-x)^2\", (x, 0, 2))"
   ]
  },
  {
   "cell_type": "markdown",
   "metadata": {
    "slideshow": {
     "slide_type": "slide"
    }
   },
   "source": [
    "\n",
    "Na seguinte cela mostramos a integral\n"
   ]
  },
  {
   "cell_type": "code",
   "execution_count": 12,
   "metadata": {
    "slideshow": {
     "slide_type": "fragment"
    }
   },
   "outputs": [
    {
     "data": {
      "image/png": "[encoded data removed]",
      "text/plain": [
       "<Figure size 432x288 with 1 Axes>"
      ]
     },
     "metadata": {},
     "output_type": "display_data"
    }
   ],
   "source": [
    "fun = lambda x : 1/(1-x)**2 \n",
    "a, b, size = 0., 2, 100\n",
    "xs  = np.linspace(a, b, size)\n",
    "plt.plot(xs, fun(xs), 'black'); plt.plot(xs, np.zeros(100), 'black');\n",
    "plt.fill_between(xs, fun(xs), alpha = 0.5); \n",
    "plt.xlabel(r\"$x$\"); plt.ylabel(r\"$f(x)$\"); plt.title(r\"$f(x) = \\frac{1}{(1-x)^2}$\")\n",
    "plt.ylim(0, 100);"
   ]
  }
 ],
 "metadata": {
  "celltoolbar": "Slideshow",
  "kernelspec": {
   "display_name": "Python 3",
   "language": "python",
   "name": "python3"
  },
  "language_info": {
   "codemirror_mode": {
    "name": "ipython",
    "version": 3
   },
   "file_extension": ".py",
   "mimetype": "text/x-python",
   "name": "python",
   "nbconvert_exporter": "python",
   "pygments_lexer": "ipython3",
   "version": "3.7.9"
  }
 },
 "nbformat": 4,
 "nbformat_minor": 1
}